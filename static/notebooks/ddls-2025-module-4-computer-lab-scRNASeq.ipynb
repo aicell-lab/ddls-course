{
 "cells": [
  {
   "cell_type": "markdown",
   "metadata": {},
   "source": [
    "# Computer Lab 4: scRNASeq Data Analysis Workflow\n",
    "\n",
    "Welcome to the practical session of [Data-Driven Life Sciences course module 4](https://ddls.aicell.io/course/ddls-2025/module-4/lab/).\n",
    "\n",
    "You will be guided through a scRNA-seq data analysis workflow using PBMC samples\n",
    "from COVID-19 patients and healthy controls.\n",
    "\n",
    "This lab is divided into two parts. In the first part, you will run the analysis workflow directly in the notebook. In the second part, you will build an MCP (Model-Context-Protocol) tool to autonomously identify genes that are differentially expressed between cell populations."
   ]
  },
  {
   "cell_type": "markdown",
   "metadata": {},
   "source": [
    "## 🧭 Quick AI Warm-up: Single-Cell Analysis (≈10 min)\n",
    "\n",
    "Use your AI assistant to ask and summarize answers to these **basic questions**.\n",
    "👉 Goal: build a simple mental map before the computer lab.\n",
    "\n",
    "---\n",
    "\n",
    "1. What is single-cell RNA sequencing, and how is it different from bulk RNA-seq?\n",
    "\n",
    "2. What are the **main steps** in a typical single-cell RNA-seq analysis workflow?\n",
    "\n",
    "3. What is **quality control (QC)** in single-cell data, and what metrics are used?\n",
    "\n",
    "4. Why do we use **normalization** and **dimensionality reduction** (e.g. PCA, UMAP)?\n",
    "\n",
    "5. What can we do with single-cell data? (Examples: clustering, cell type annotation, gene expression analysis)\n",
    "\n",
    "6. What are the main **Python tools** (e.g. Scanpy), and what is an **AnnData object**?\n",
    "\n",
    "---\n",
    "\n",
    "### Instructions\n",
    "\n",
    "* Spend about **1–2 minutes per question**.\n",
    "* Write down a **short 1-sentence summary** for each.\n",
    "* If time allows, ask for a **tiny Python example** (e.g., loading data in Scanpy)."
   ]
  },
  {
   "cell_type": "markdown",
   "metadata": {},
   "source": [
    "`⭐ Edit this cell to write your answers below:`\n",
    "\n",
    "1.\n",
    "\n",
    "2.\n",
    "\n",
    "3.\n",
    "\n",
    "4.\n",
    "\n",
    "5.\n",
    "\n",
    "6."
   ]
  },
  {
   "cell_type": "markdown",
   "metadata": {},
   "source": [
    "## Save the notebook to your Module 4 folder in Google Drive\n",
    "\n",
    "Before you start, copy this notebook to your Google Drive:\n",
    "\n",
    "`File` -> `Save a copy in Drive`\n",
    "\n",
    "(You can close the other tab with the original notebook.)\n",
    "\n",
    "Next, move the copied notebook to your Module 4 folder in Google Drive:\n",
    "\n",
    "`File` -> `Move` -> Go up to `My Drive` -> Select your `DDLS-Course` folder -> Create a new folder named `Module4` -> `Select folder`\n"
   ]
  },
  {
   "cell_type": "markdown",
   "metadata": {},
   "source": [
    "## Mount Google Drive Folder\n",
    "\n",
    "Mounting your Google Drive folder allows your Colab notebook to access files stored in your Google Drive. This is useful for loading datasets, saving results, or accessing other files you need for your work."
   ]
  },
  {
   "cell_type": "code",
   "execution_count": null,
   "metadata": {},
   "outputs": [],
   "source": [
    "from google.colab import drive\n",
    "drive.mount('/content/drive')"
   ]
  },
  {
   "cell_type": "markdown",
   "metadata": {},
   "source": [
    "If you copied and saved the notebook correctly, you should now see this notebook in your Google Drive under `/content/drive/MyDrive/DDLS-Course/Module4/`."
   ]
  },
  {
   "cell_type": "code",
   "execution_count": null,
   "metadata": {},
   "outputs": [],
   "source": [
    "!ls -lh /content/drive/MyDrive/DDLS-Course/Module4/"
   ]
  },
  {
   "cell_type": "markdown",
   "metadata": {},
   "source": [
    "## scRNA-seq analysis workflow steps:\n",
    "\n",
    "In this notebook, you will perform a standard scRNASeq data analysis using the following steps:\n",
    "\n",
    "1. **Loading the Data:**\n",
    "   - Import raw scRNASeq data into the environment for further processing and analysis.\n",
    "\n",
    "2. **Quality Control:**\n",
    "   - Evaluate the data quality by filtering out low-quality cells, such as those with high mitochondrial content or low gene counts.\n",
    "\n",
    "3. **Filtering:**\n",
    "   - Remove cells and genes that do not meet quality thresholds, ensuring the analysis uses only relevant data.\n",
    "\n",
    "4. **Doublet Detection:**\n",
    "   - Identify and exclude potential doublets (instances where two cells are mistakenly captured as one), which can skew the results.\n",
    "\n",
    "5. **Cell Cycle Regression:**\n",
    "   - Correct for cell cycle effects to reduce their influence on subsequent analyses, leading to more accurate clustering of cells.\n",
    "\n",
    "6. **Feature Selection:**\n",
    "   - Identify highly variable genes that are most informative for distinguishing different cell states or types.\n",
    "\n",
    "7. **Data Integration (Batch Correction):**\n",
    "   - Merge data from multiple samples, correcting for technical variations between them to allow accurate comparison.\n",
    "\n",
    "8. **Dimensionality Reduction:**\n",
    "   - Simplify the data using methods like PCA or UMAP to reveal patterns and make the data easier to visualize and interpret.\n",
    "\n",
    "9. **Differential Expression:**\n",
    "   - Identify genes that are differentially expressed between cell populations, which helps define distinct cell types or states.\n",
    "\n",
    "This workflow will guide you through analyzing scRNASeq data, helping you identify critical expression differences between patient and healthy control samples.\n",
    "\n",
    "_The analysis workflow in this notebook was created by [Nima Rafati](https://www.uu.se/en/contact-and-organisation/staff?query=N11-1726), with materials primarily derived from the scRNASeq workshop created at NBIS (Åsa Björklund, Paulo Czarnewski, Susanne Reinsbach, Roy Francis). To access the full course content, please visit [here](https://nbisweden.github.io/workshop-scRNAseq/)._\n"
   ]
  },
  {
   "cell_type": "code",
   "execution_count": null,
   "metadata": {
    "cellView": "form",
    "colab": {
     "base_uri": "https://localhost:8080/",
     "height": 472
    },
    "collapsed": true,
    "executionInfo": {
     "elapsed": 9496,
     "status": "error",
     "timestamp": 1758029143229,
     "user": {
      "displayName": "Nils Mechtel",
      "userId": "11002650100693508568"
     },
     "user_tz": -120
    },
    "id": "HjilPWDo2bgU",
    "outputId": "b96d7701-69fa-49d8-ac54-7d46147d574e"
   },
   "outputs": [],
   "source": [
    "#@title Install dependencies\n",
    "#@markdown You can run the notebook using **CPU**.\n",
    "#@markdown In the menu above do: Runtime --> Change runtime type --> Hardware accelerator (set to CPU)\n",
    "\n",
    "#@markdown **Press play to install.** This will take about 2 minutes.\n",
    "\n",
    "#@markdown (Note: You do NOT need to restart the runtime afterwards.)\n",
    "\n",
    "!pip install --upgrade pip\n",
    "!pip install jedi\n",
    "!pip install numpydoc\n",
    "!pip install bbknn\n",
    "!pip install geopandas\n",
    "!pip install harmonypy\n",
    "!pip install leidenalg\n",
    "!pip install matplotlib-scalebar\n",
    "!pip install matplotlib-venn\n",
    "!pip install napari-matplotlib\n",
    "!pip install pybiomart\n",
    "!pip install scanpy\n",
    "!pip install scrublet"
   ]
  },
  {
   "cell_type": "markdown",
   "metadata": {
    "id": "dBBU1sB6XSV0"
   },
   "source": [
    "### Importing packages\n",
    "\n",
    "We will first import all packages we will use in this notebook.\n"
   ]
  },
  {
   "cell_type": "code",
   "execution_count": null,
   "metadata": {
    "id": "FRTGkRaXyK6e"
   },
   "outputs": [],
   "source": [
    "import numpy as np # linear algebra\n",
    "import pandas as pd # data processing, CSV file I/O (e.g. pd.read_csv)\n",
    "\n",
    "# single cell analysis\n",
    "import scanpy as sc\n",
    "import scanpy.external as sce\n",
    "\n",
    "# Plotting\n",
    "import seaborn as sns\n",
    "import matplotlib.pyplot as plt\n",
    "from matplotlib_venn import venn3\n",
    "\n",
    "# Integration\n",
    "import harmonypy as hm\n",
    "import bbknn\n",
    "\n",
    "# Clustering\n",
    "import leidenalg # Leiden clustering\n",
    "from sklearn.cluster import KMeans # KMeans clustering\n",
    "from sklearn.metrics import adjusted_rand_score  # ARI\n",
    "from sklearn.cluster import AgglomerativeClustering # Agglomerative clustering\n",
    "\n",
    "\n",
    "import pybiomart # for gene annotation\n",
    "import warnings\n",
    "import os # for file handling\n",
    "import urllib.request  # for data download\n",
    "\n",
    "warnings.simplefilter(action='ignore', category=Warning)"
   ]
  },
  {
   "cell_type": "markdown",
   "metadata": {
    "id": "sR_zODMzyK6f"
   },
   "source": [
    "We then set the Matplotlib plotting defaults for all plots and print versions of python packages in the current environment.  "
   ]
  },
  {
   "cell_type": "code",
   "execution_count": null,
   "metadata": {
    "id": "DJTk1zYpyK6f"
   },
   "outputs": [],
   "source": [
    "sc.settings.set_figure_params(dpi = 90, facecolor='white')\n",
    "# verbosity: errors (0), warnings (1), info (2), hints (3)\n",
    "sc.settings.verbosity = 3\n",
    "sc.logging.print_header()"
   ]
  },
  {
   "cell_type": "markdown",
   "metadata": {
    "id": "dUjk5X-3yK6f"
   },
   "source": [
    "*****\n",
    "\n",
    "# Part I — Classic scRNASeq Workflow in Jupyter\n",
    "\n",
    "\n",
    "## Loading the Data\n",
    "\n",
    "In this computer lab, we will use 8 PBMC (Peripheral Blood Mononuclear Cells) datasets from four COVID-19 patients and four healthy controls, generated using 10x Genomics technology. To make the analysis more manageable, each dataset has been subsampled to 1500 cells per sample.  \n",
    "\n",
    "The datasets are provided as `.h5` files hosted at `uppmax.uu.se`. During the setup, the following steps will be performed automatically:\n",
    "\n",
    "- Download the 8 datasets to `/content/drive/MyDrive/DDLS-Course/Module4/data/covid/` (if not already present locally).  \n",
    "- Load each dataset with **Scanpy** (`read_10x_h5`) and ensure unique gene names.  \n",
    "- Annotate metadata for sample identity (`sample`) and condition (`type`: *Covid* or *Ctrl*).  \n",
    "- Merge all samples into one combined `AnnData` object for downstream analysis.  \n"
   ]
  },
  {
   "cell_type": "code",
   "execution_count": null,
   "metadata": {
    "colab": {
     "base_uri": "https://localhost:8080/"
    },
    "executionInfo": {
     "elapsed": 4145,
     "status": "ok",
     "timestamp": 1758030049627,
     "user": {
      "displayName": "Nils Mechtel",
      "userId": "11002650100693508568"
     },
     "user_tz": -120
    },
    "id": "lXp0lOsEbV23",
    "outputId": "c2776562-dfe2-4537-d555-d273ed1a1dee"
   },
   "outputs": [],
   "source": [
    "# Base URL and local paths\n",
    "url_data = \"https://export.uppmax.uu.se/naiss2023-23-3/workshops/workshop-scrnaseq/covid/\"\n",
    "path_data = \"/content/drive/MyDrive/DDLS-Course/Module4/data/covid/\"\n",
    "path_results = \"/content/drive/MyDrive/DDLS-Course/Module4/results/\"\n",
    "\n",
    "os.makedirs(path_data, exist_ok=True)\n",
    "os.makedirs(path_results, exist_ok=True)\n",
    "\n",
    "# File list\n",
    "files_to_download = {\n",
    "    \"covid_1\":    \"ncov_pbmc_1.h5\",\n",
    "    \"covid_15\":   \"ncov_pbmc_15.h5\",\n",
    "    \"covid_16\":   \"ncov_pbmc_16.h5\",\n",
    "    \"covid_17\":   \"ncov_pbmc_17.h5\",\n",
    "    \"ctrl_5\":     \"normal_pbmc_5.h5\",\n",
    "    \"ctrl_13\":    \"normal_pbmc_13.h5\",\n",
    "    \"ctrl_14\":    \"normal_pbmc_14.h5\",\n",
    "    \"ctrl_19\":    \"normal_pbmc_19.h5\"\n",
    "}\n",
    "\n",
    "# Download if missing\n",
    "for fname in files_to_download.values():\n",
    "    fpath = os.path.join(path_data, fname)\n",
    "    if not os.path.exists(fpath):\n",
    "        print(f\"Downloading {fname}...\")\n",
    "        urllib.request.urlretrieve(url_data + fname, fpath)\n",
    "    else:\n",
    "        print(f\"File already exists: {fname}\")\n",
    "\n",
    "# Load all datasets and add metadata\n",
    "datasets = []\n",
    "for sample_name, fname in files_to_download.items():\n",
    "    fpath = os.path.join(path_data, fname)\n",
    "    print(f\"Reading {fname}...\")\n",
    "    ad = sc.read_10x_h5(fpath)\n",
    "    ad.var_names_make_unique()\n",
    "    # Add metadata\n",
    "    ad.obs[\"type\"] = \"Covid\" if sample_name.startswith(\"covid\") else \"Ctrl\"\n",
    "    ad.obs[\"sample\"] = sample_name\n",
    "    datasets.append(ad)\n",
    "\n",
    "# Merge into one AnnData\n",
    "adata = datasets[0].concatenate(*datasets[1:])\n",
    "\n",
    "# Clean up\n",
    "del datasets\n",
    "\n",
    "print(\"Final AnnData object shape:\", adata.shape)\n",
    "adata"
   ]
  },
  {
   "cell_type": "markdown",
   "metadata": {
    "id": "6g7WCPSWymIm"
   },
   "source": [
    "### Working with AnnData\n",
    "\n",
    "Scanpy loads the 10x Genomics datasets into an **AnnData** object, which is the core data structure used throughout the analysis.  \n",
    "An AnnData object is designed for single-cell omics data and stores:  \n",
    "\n",
    "- The **expression matrix** (cells × genes).  \n",
    "- **Annotations** of cells (`.obs`) and genes (`.var`).  \n",
    "- **Additional layers** such as embeddings, transformations, and analysis results.  \n",
    "\n",
    "This makes it easy to keep all data and metadata together in one container.  \n",
    "\n",
    "*(See the schema illustration below for how AnnData is organized.)*\n"
   ]
  },
  {
   "cell_type": "markdown",
   "metadata": {
    "id": "DCmOoyXpxF22"
   },
   "source": [
    "<img src=\"data:image/svg+xml;base64,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\" alt=\"anndata_schema\" width=\"500\">"
   ]
  },
  {
   "cell_type": "markdown",
   "metadata": {
    "id": "_MifNOcIyK6g"
   },
   "source": [
    "### ⭐ **Task:** Explore the AnnData object\n",
    "\n",
    "Before moving on, take a few minutes to explore the `adata` object you just created.  \n",
    "Answer the following questions by running Python commands in the notebook:\n",
    "\n",
    "1. What is the **shape** of the expression matrix (cells × genes)?  \n",
    "2. What metadata is stored for the **cells** in `adata.obs`?  \n",
    "3. What metadata is stored for the **genes** in `adata.var`?  \n",
    "4. How many cells come from *Covid* samples vs. *Ctrl* samples?\n"
   ]
  },
  {
   "cell_type": "code",
   "execution_count": null,
   "metadata": {
    "id": "6U-yWCuamFm_"
   },
   "outputs": [],
   "source": [
    "# ⭐ Write your code to explore the anndata object"
   ]
  },
  {
   "cell_type": "markdown",
   "metadata": {},
   "source": [
    "`⭐ Edit this cell to write your answers below:`\n",
    "\n",
    "1.\n",
    "2.\n",
    "3.\n",
    "4."
   ]
  },
  {
   "cell_type": "markdown",
   "metadata": {
    "id": "5ZFBoUeMyK6g"
   },
   "source": [
    "## Quality Control (QC)\n",
    "Here we generate some metrics which helps us to evaluate the quality of the dataset:\n",
    "- `total_counts`:  Total number of molecules in a cell.  \n",
    "- `n_genes_by_counts`: Number of genes with at least one count in a cell.  \n",
    "- `pct_counts_mt`: The percentage of reads mapped to mitochondrial genes.  \n",
    "- `pct_counts_ribo`: The percentage of reads mapped to ribosomal genes.  \n",
    "- `pct_counts_hb`: The percentage of reads mapped to hemoglobin genes (blood cells).  "
   ]
  },
  {
   "cell_type": "code",
   "execution_count": null,
   "metadata": {
    "colab": {
     "base_uri": "https://localhost:8080/",
     "height": 424
    },
    "executionInfo": {
     "elapsed": 73,
     "status": "ok",
     "timestamp": 1758030806804,
     "user": {
      "displayName": "Nils Mechtel",
      "userId": "11002650100693508568"
     },
     "user_tz": -120
    },
    "id": "qnipM9B0yK6g",
    "outputId": "8ae7a21a-2193-4728-e6b7-956a295dbddb"
   },
   "outputs": [],
   "source": [
    "# mitochondrial genes\n",
    "adata.var['mt'] = adata.var_names.str.startswith('MT-')\n",
    "# ribosomal genes\n",
    "adata.var['ribo'] = adata.var_names.str.startswith((\"RPS\",\"RPL\"))\n",
    "# hemoglobin genes.\n",
    "adata.var['hb'] = adata.var_names.str.contains((\"^HB[^(P|E|S)]\"))\n",
    "\n",
    "adata.var"
   ]
  },
  {
   "cell_type": "markdown",
   "metadata": {
    "id": "jooGH1OuyK6g"
   },
   "source": [
    "Now we calculate some QC metrics, such as percentage of mitochondrial genes."
   ]
  },
  {
   "cell_type": "code",
   "execution_count": null,
   "metadata": {
    "colab": {
     "base_uri": "https://localhost:8080/"
    },
    "executionInfo": {
     "elapsed": 3510,
     "status": "ok",
     "timestamp": 1758030846683,
     "user": {
      "displayName": "Nils Mechtel",
      "userId": "11002650100693508568"
     },
     "user_tz": -120
    },
    "id": "BMkE0Vm4yK6g",
    "outputId": "705d25eb-146e-4909-ccef-3ef3e2d8aed0"
   },
   "outputs": [],
   "source": [
    "sc.pp.calculate_qc_metrics(adata, qc_vars=['mt','ribo','hb'], percent_top=None, log1p=False, inplace=True)\n",
    "adata"
   ]
  },
  {
   "cell_type": "markdown",
   "metadata": {
    "id": "j1pm88aDyK6g"
   },
   "source": [
    "Now we plot the QC metrics.  "
   ]
  },
  {
   "cell_type": "code",
   "execution_count": null,
   "metadata": {
    "colab": {
     "base_uri": "https://localhost:8080/",
     "height": 144
    },
    "executionInfo": {
     "elapsed": 2954,
     "status": "ok",
     "timestamp": 1758030852596,
     "user": {
      "displayName": "Nils Mechtel",
      "userId": "11002650100693508568"
     },
     "user_tz": -120
    },
    "id": "RVJCMR46yK6g",
    "outputId": "f0f05e87-913f-43a2-9f41-808a14f35376"
   },
   "outputs": [],
   "source": [
    "sc.pl.violin(adata,\n",
    "             ['n_genes_by_counts', 'total_counts', 'pct_counts_mt', 'pct_counts_ribo', 'pct_counts_hb'],\n",
    "             jitter=0.4, groupby = 'sample', rotation= 90,\n",
    "             multi_panel=False)"
   ]
  },
  {
   "cell_type": "markdown",
   "metadata": {
    "id": "Xc8rrszryK6h"
   },
   "source": [
    "### ⭐ **Task**\n",
    "\n",
    "Samples `covid_15` & `covid_16` show distinct behaviour: fewer detected genes and more mitochondrial genes. Please explain what could cause this."
   ]
  },
  {
   "cell_type": "markdown",
   "metadata": {
    "id": "8sMNHGcn63Vc"
   },
   "source": [
    "`⭐ Edit this cell to write your answers below:`\n",
    "\n",
    "-"
   ]
  },
  {
   "cell_type": "markdown",
   "metadata": {
    "id": "i0OU6OSHyK6h"
   },
   "source": [
    " In addition to above metrics we can plot `total_counts` vs ` n_genes_by_count` in a scatterplot.  "
   ]
  },
  {
   "cell_type": "code",
   "execution_count": null,
   "metadata": {
    "colab": {
     "base_uri": "https://localhost:8080/",
     "height": 453
    },
    "executionInfo": {
     "elapsed": 375,
     "status": "ok",
     "timestamp": 1758030864128,
     "user": {
      "displayName": "Nils Mechtel",
      "userId": "11002650100693508568"
     },
     "user_tz": -120
    },
    "id": "MzODTN21yK6h",
    "outputId": "155a7f4a-013f-4826-e888-eed45ef4e811"
   },
   "outputs": [],
   "source": [
    "sc.pl.scatter(adata, x = 'total_counts', y = 'pct_counts_mt', color = 'sample')"
   ]
  },
  {
   "cell_type": "markdown",
   "metadata": {
    "id": "F1S2Yl81yK6h"
   },
   "source": [
    "## Filtering"
   ]
  },
  {
   "cell_type": "markdown",
   "metadata": {
    "id": "hrRBrmUVyK6h"
   },
   "source": [
    "For downstream analysis, it is important to remove noise from the dataset. In this case we can remove cells with few number of detected genes, and thus we keep cells with at least **200** detected genes. Also to have enough statistical power we need to have enough observation for given genes and thus we keep genes that are expressed in at least **three** cells."
   ]
  },
  {
   "cell_type": "code",
   "execution_count": null,
   "metadata": {
    "colab": {
     "base_uri": "https://localhost:8080/"
    },
    "executionInfo": {
     "elapsed": 1104,
     "status": "ok",
     "timestamp": 1758030991535,
     "user": {
      "displayName": "Nils Mechtel",
      "userId": "11002650100693508568"
     },
     "user_tz": -120
    },
    "id": "csVdnodRyK6h",
    "outputId": "f027812f-8917-4af5-c639-6a1cac441ec0"
   },
   "outputs": [],
   "source": [
    "sc.pp.filter_cells(adata, min_genes = 200)\n",
    "sc.pp.filter_genes(adata, min_cells = 3)\n",
    "\n",
    "print(\"Remaining cells\", adata.n_obs)"
   ]
  },
  {
   "cell_type": "markdown",
   "metadata": {
    "id": "iF1DdB5DyK6h"
   },
   "source": [
    "### ⭐ **Task**\n",
    "\n",
    "Isn't it surprising that many genes have been filtered? What do you think could be the reason for this?"
   ]
  },
  {
   "cell_type": "markdown",
   "metadata": {
    "id": "ZrbLG1nU7V-7"
   },
   "source": [
    "`⭐ Edit this cell to write your answers below:`\n",
    "\n",
    "-"
   ]
  },
  {
   "cell_type": "markdown",
   "metadata": {
    "id": "h5wr4DQFyK6h"
   },
   "source": [
    "We can also plot highly expressed genes using `scanpy.pl.highest_expr_genes` methods."
   ]
  },
  {
   "cell_type": "code",
   "execution_count": null,
   "metadata": {
    "colab": {
     "base_uri": "https://localhost:8080/",
     "height": 503
    },
    "executionInfo": {
     "elapsed": 6334,
     "status": "ok",
     "timestamp": 1758030943312,
     "user": {
      "displayName": "Nils Mechtel",
      "userId": "11002650100693508568"
     },
     "user_tz": -120
    },
    "id": "SAz61WKGyK6h",
    "outputId": "4a547a2a-0086-430f-f487-f66cbcd6a5bb"
   },
   "outputs": [],
   "source": [
    "sc.pl.highest_expr_genes(adata, n_top=20)"
   ]
  },
  {
   "cell_type": "markdown",
   "metadata": {
    "id": "9nYji14gyK6h"
   },
   "source": [
    "_MALAT1_ shows highest expression in this dataset together with mitochondrial genes. _MALAT1_ is a nuclear lincRNA and its high expression may not be surprising, because it is frequently detected in poly-A captured scRNASeq data. In other word, it may be technical issue. Regarding mitochondrial/ribosomal genes, we can filter cells with high expression of these genes. High expression of mitochondrial gene may be indicative of high mortality of cells.\n",
    "\n",
    "This dataset does not show very high fraction though and by considering `20%` threshold for mitochondrial we will have reasonable number of cells to do downstream analysis.\n",
    "\n",
    "High fraction of ribosomal genes may also indicate low-quality cells. In this dataset the fraction is not high and we can be less stringent by applying a cut-off of `5%`.   "
   ]
  },
  {
   "cell_type": "code",
   "execution_count": null,
   "metadata": {
    "colab": {
     "base_uri": "https://localhost:8080/"
    },
    "executionInfo": {
     "elapsed": 6,
     "status": "ok",
     "timestamp": 1758031002160,
     "user": {
      "displayName": "Nils Mechtel",
      "userId": "11002650100693508568"
     },
     "user_tz": -120
    },
    "id": "FQZpaJWuyK6h",
    "outputId": "334b2c54-6927-4f9b-d797-82d3b4b87bb6"
   },
   "outputs": [],
   "source": [
    "adata = adata[adata.obs['pct_counts_mt'] < 20, :]\n",
    "adata = adata[adata.obs['pct_counts_ribo'] > 5, :]\n",
    "\n",
    "print(\"Remaining cells\", adata.n_obs)"
   ]
  },
  {
   "cell_type": "markdown",
   "metadata": {
    "id": "4KiugD01yK6h"
   },
   "source": [
    "Let's look at the data after filtering.  "
   ]
  },
  {
   "cell_type": "code",
   "execution_count": null,
   "metadata": {
    "colab": {
     "base_uri": "https://localhost:8080/",
     "height": 176
    },
    "executionInfo": {
     "elapsed": 2002,
     "status": "ok",
     "timestamp": 1758031007319,
     "user": {
      "displayName": "Nils Mechtel",
      "userId": "11002650100693508568"
     },
     "user_tz": -120
    },
    "id": "OvLlbJ5syK6h",
    "outputId": "ecbfee9f-6cdc-4e33-b538-ef86cd6c0603"
   },
   "outputs": [],
   "source": [
    "sc.pl.violin(adata, ['n_genes_by_counts', 'total_counts', 'pct_counts_mt', 'pct_counts_ribo'], jitter=0.4, groupby = 'sample', rotation= 90, multi_panel=False)"
   ]
  },
  {
   "cell_type": "markdown",
   "metadata": {
    "id": "MdiLf0zFfpxR"
   },
   "source": [
    "### ⭐ **Task**\n",
    "\n",
    "Please explain what has changed in the filtered data distribution compared to the unfiltered data distribution."
   ]
  },
  {
   "cell_type": "markdown",
   "metadata": {
    "id": "6pZzoBsx7Ydz"
   },
   "source": [
    "`⭐ Edit this cell to write your answers below:`\n",
    "\n",
    "-"
   ]
  },
  {
   "cell_type": "markdown",
   "metadata": {
    "id": "5tJtIQaUyK6h"
   },
   "source": [
    "### Filtering genes\n",
    "\n",
    "As the level of expression of mitochondrial and MALAT1 genes are judged as mainly technical, it can be wise to remove them from the dataset before any further analysis. In this case we will also remove the HB genes as HBB has very high expression in some cells."
   ]
  },
  {
   "cell_type": "code",
   "execution_count": null,
   "metadata": {
    "colab": {
     "base_uri": "https://localhost:8080/"
    },
    "executionInfo": {
     "elapsed": 262,
     "status": "ok",
     "timestamp": 1758031048980,
     "user": {
      "displayName": "Nils Mechtel",
      "userId": "11002650100693508568"
     },
     "user_tz": -120
    },
    "id": "PKYe8TYGyK6h",
    "outputId": "6ba4a2b8-e90e-4f6f-bfbf-a9e8a58f09b4"
   },
   "outputs": [],
   "source": [
    "malat1 = adata.var_names.str.startswith('MALAT1')\n",
    "# we need to redefine the mito_genes since they were first\n",
    "# calculated on the full object before removing low expressed genes.\n",
    "mito_genes = adata.var_names.str.startswith('MT-')\n",
    "hb_genes = adata.var_names.str.contains('^HB[^(P|E|S)]')\n",
    "\n",
    "remove = np.add(mito_genes, malat1)\n",
    "remove = np.add(remove, hb_genes)\n",
    "keep = np.invert(remove)\n",
    "\n",
    "adata = adata[:,keep]\n",
    "\n",
    "\n",
    "print(\"Remaining genes\", adata.n_vars)"
   ]
  },
  {
   "cell_type": "markdown",
   "metadata": {
    "id": "yQJAe9DgyK6i"
   },
   "source": [
    "Now we can save the data after filtering"
   ]
  },
  {
   "cell_type": "code",
   "execution_count": null,
   "metadata": {
    "id": "XdSX-as9yK6i"
   },
   "outputs": [],
   "source": [
    "# Saving filtered data\n",
    "adata.write(os.path.join(path_results, \"covid_filtered.h5ad\"))"
   ]
  },
  {
   "cell_type": "markdown",
   "metadata": {
    "id": "Ge4SB6K2yK6i"
   },
   "source": [
    "## Samples Sex"
   ]
  },
  {
   "cell_type": "markdown",
   "metadata": {
    "id": "gTmOGMwRyK6i"
   },
   "source": [
    "The sex of the samples is crucial metadata that should be taken into account in the analysis to control for any sex-associated effects. Moreover, inferring the sex of samples using sequencing data can be a good sanity check for potential mislabelling and so on. By evaluating mapping to following features we can determine the sex:  \n",
    "- X-inactive specific transcript (_XIST_).  \n",
    "- Y chromosome.  \n",
    "\n",
    "\n",
    "We can extract the information of these features from annotation file (gtf) or using Biomart in Ensembl. In python (`pybiomart`) you can also directly connect to ensembl database and extract annotation information.    \n",
    "\n",
    "For gtf format you can read [here](https://nbisweden.github.io/workshop-RNAseq/2403/lab_download.html) (from RNASeq workshop organized by NBIS)"
   ]
  },
  {
   "cell_type": "code",
   "execution_count": null,
   "metadata": {
    "colab": {
     "base_uri": "https://localhost:8080/",
     "height": 455
    },
    "executionInfo": {
     "elapsed": 3645,
     "status": "ok",
     "timestamp": 1758031064604,
     "user": {
      "displayName": "Nils Mechtel",
      "userId": "11002650100693508568"
     },
     "user_tz": -120
    },
    "id": "hyDDer9jyK6i",
    "outputId": "3587af8e-5bfd-4654-bd0e-072a0734c386"
   },
   "outputs": [],
   "source": [
    "annot = sc.queries.biomart_annotations(\"hsapiens\", [\"ensembl_gene_id\", \"external_gene_name\", \"start_position\", \"end_position\", \"chromosome_name\"], ).set_index(\"external_gene_name\")\n",
    "annot"
   ]
  },
  {
   "cell_type": "markdown",
   "metadata": {
    "id": "PDNZhO_byK6i"
   },
   "source": [
    "With the information of the features we can now extract fraction of reads that mapped to chromosome Y:"
   ]
  },
  {
   "cell_type": "code",
   "execution_count": null,
   "metadata": {
    "id": "2fO63rCqyK6i"
   },
   "outputs": [],
   "source": [
    "chrY_genes = adata.var_names.intersection(annot.index[annot.chromosome_name == \"Y\"])\n",
    "chrY_genes\n",
    "\n",
    "adata.obs['percent_chrY'] = np.sum(\n",
    "    adata[:, chrY_genes].X, axis=1).A1 / np.sum(adata.X, axis=1).A1 * 100"
   ]
  },
  {
   "cell_type": "markdown",
   "metadata": {
    "id": "hlDGizsGyK6i"
   },
   "source": [
    "We can directly extract the expression of _XIST_ from `anndata`  object.  "
   ]
  },
  {
   "cell_type": "code",
   "execution_count": null,
   "metadata": {
    "colab": {
     "base_uri": "https://localhost:8080/",
     "height": 453
    },
    "executionInfo": {
     "elapsed": 340,
     "status": "ok",
     "timestamp": 1758031069798,
     "user": {
      "displayName": "Nils Mechtel",
      "userId": "11002650100693508568"
     },
     "user_tz": -120
    },
    "id": "tElcQcz4yK6i",
    "outputId": "f4d4ad42-0dc8-4de3-b73c-0b77b805ba8d"
   },
   "outputs": [],
   "source": [
    "# color inputs must be from either .obs or .var, so add in XIST expression to obs.\n",
    "adata.obs[\"XIST-counts\"] = adata.X[:,adata.var_names.str.match('XIST')].toarray()\n",
    "\n",
    "sc.pl.scatter(adata, x='XIST-counts', y='percent_chrY', color=\"sample\")"
   ]
  },
  {
   "cell_type": "markdown",
   "metadata": {
    "id": "Cqv_Q2dUyK6i"
   },
   "source": [
    "Now we can plot _XIST_ expression for all the samples"
   ]
  },
  {
   "cell_type": "code",
   "execution_count": null,
   "metadata": {
    "colab": {
     "base_uri": "https://localhost:8080/",
     "height": 343
    },
    "executionInfo": {
     "elapsed": 1091,
     "status": "ok",
     "timestamp": 1758031073813,
     "user": {
      "displayName": "Nils Mechtel",
      "userId": "11002650100693508568"
     },
     "user_tz": -120
    },
    "id": "lmuf6pxryK6j",
    "outputId": "574805e3-99f4-411e-e239-e168a6ab970b"
   },
   "outputs": [],
   "source": [
    "sc.pl.violin(adata, [\"XIST-counts\", \"percent_chrY\"], jitter=0.4, groupby = 'sample', rotation= 45)"
   ]
  },
  {
   "cell_type": "markdown",
   "metadata": {
    "id": "Cx7caSYjyK6j"
   },
   "source": [
    "### ⭐ **Task**\n",
    "\n",
    "Can you see which samples are feamle/male?"
   ]
  },
  {
   "cell_type": "markdown",
   "metadata": {
    "id": "lRhDllyE7abO"
   },
   "source": [
    "`⭐ Edit this cell to write your answers below:`\n",
    "\n",
    "-"
   ]
  },
  {
   "cell_type": "markdown",
   "metadata": {
    "id": "6x2bGaf8yK6j"
   },
   "source": [
    "## Doublet detection\n",
    "\n",
    "Doublets of cells are is a common feature in scRNASeq where cells in the same well/droplet are sequenced together. They are either homotypic (from the same cell type) or heterotypic (from different cell types). Dependent on the technology, there can be an expected proportion of doublets. In 10x technology this proportion is linearly correlated with the number of loaded cells."
   ]
  },
  {
   "cell_type": "markdown",
   "metadata": {
    "id": "Ys8Y5xQcyK6j"
   },
   "source": [
    "| Multiplet Rate (%) | # of Cells Loaded | # of Cells Recovered |\n",
    "|--------------------|-------------------|----------------------|\n",
    "| ~0.4%              | ~870              | ~500                 |\n",
    "| ~0.8%              | ~1700             | ~1000                |\n",
    "| ~1.6%              | ~3500             | ~2000                |\n",
    "| ~2.3%              | ~5300             | ~3000                |\n",
    "| ~3.1%              | ~7000             | ~4000                |\n",
    "| ~3.9%              | ~8700             | ~5000                |\n",
    "| ~4.6%              | ~10500            | ~6000                |\n",
    "| ~5.4%              | ~12200            | ~7000                |\n",
    "| ~6.1%              | ~14000            | ~8000                |\n",
    "| ~6.9%              | ~15700            | ~9000                |\n",
    "| ~7.6%              | ~17400            | ~10000               |\n"
   ]
  },
  {
   "cell_type": "markdown",
   "metadata": {
    "id": "Bk9vgBgqyK6j"
   },
   "source": [
    "One of the approaches to detect doublets, is by simulating doublets. Artificial doublets are randomly subsampled in pairs and their gene expression is averaged to obtain doublets counts. The new artifical doublets are projected together with the original cells into a lower dimensional principle space. Then a doublet score based on numnber of artificial doublet neighbors is computed in the k nearest neighbour graph.\n",
    "\n",
    "Most such packages need an assumption about the number/proportion of expected doublets in the dataset. The data you are using is subsampled, but the original datasets contained about 5 000 cells per sample, hence we can assume that they loaded about 9 000 cells and should have a doublet rate at about 4%.\n",
    "\n",
    "`scrublet`  is a tool which is used to identify doublets. This tool works with raw counts saved in `adata.X`.   \n",
    "\n",
    "**Note: that doublet detection should be done for each sample separately.**   \n",
    "\n",
    "To do that we will split the data in a loop and run ` scrublet`  for each sample and add the detected doublets to the `adata`  object.     "
   ]
  },
  {
   "cell_type": "markdown",
   "metadata": {
    "id": "BZMguB73yK6j"
   },
   "source": [
    "![doublet_detection.jpeg](https://ddls.aicell.io/course/ddls-2024/module-3/doublet_detection.jpeg)"
   ]
  },
  {
   "cell_type": "markdown",
   "metadata": {
    "id": "PQZ7hfn9yK6j"
   },
   "source": [
    "_Artificial doublets are randomly subsampled in pairs and their gene expression is averaged to obtain doublets counts. The new artifical doublets are projected together with the original cells into a lower dimensional principle space. Then a doublet score based on numnber of artificial doublet neighbors is computed in the k nearest neighbour graph._"
   ]
  },
  {
   "cell_type": "code",
   "execution_count": null,
   "metadata": {
    "colab": {
     "base_uri": "https://localhost:8080/"
    },
    "executionInfo": {
     "elapsed": 15483,
     "status": "ok",
     "timestamp": 1758031093386,
     "user": {
      "displayName": "Nils Mechtel",
      "userId": "11002650100693508568"
     },
     "user_tz": -120
    },
    "id": "rfU5EsfGyK6j",
    "outputId": "9e68d03c-7a59-4433-f6d9-4e77ccfdd336"
   },
   "outputs": [],
   "source": [
    "import scrublet as scr\n",
    "\n",
    "# split per batch into new objects.\n",
    "batches = adata.obs['sample'].cat.categories.tolist()\n",
    "alldata = {}\n",
    "for batch in batches:\n",
    "    tmp = adata[adata.obs['sample'] == batch,]\n",
    "    print(batch, \":\", tmp.shape[0], \" cells\")\n",
    "    scrub = scr.Scrublet(tmp.X)\n",
    "    out = scrub.scrub_doublets(verbose=False, n_prin_comps = 20)\n",
    "    alldata[batch] = pd.DataFrame({'doublet_score':out[0],'detected_doublets':out[1]},index = tmp.obs.index)\n",
    "    print(alldata[batch].detected_doublets.sum(), \" detected_doublets\")\n",
    "\n",
    "# add predictions to the adata object.\n",
    "scrub_pred = pd.concat(alldata.values())\n",
    "adata.obs['doublet_scores'] = scrub_pred['doublet_score']\n",
    "adata.obs['detected_doublets'] = scrub_pred['detected_doublets']\n",
    "\n",
    "print('Total doublets:' , sum(adata.obs['detected_doublets']))"
   ]
  },
  {
   "cell_type": "markdown",
   "metadata": {
    "id": "6xccadt5yK6j"
   },
   "source": [
    "When two cells are sequenced with one cell barcode, we should expect that there is high number of detected cells under single cell (barcode)."
   ]
  },
  {
   "cell_type": "code",
   "execution_count": null,
   "metadata": {
    "colab": {
     "base_uri": "https://localhost:8080/",
     "height": 431
    },
    "executionInfo": {
     "elapsed": 951,
     "status": "ok",
     "timestamp": 1758031094341,
     "user": {
      "displayName": "Nils Mechtel",
      "userId": "11002650100693508568"
     },
     "user_tz": -120
    },
    "id": "aZNzbbRAyK6j",
    "outputId": "44b1f1f1-d881-485d-dfda-d232405ce154"
   },
   "outputs": [],
   "source": [
    "# add in column with singlet/doublet instead of True/Fals\n",
    "%matplotlib inline\n",
    "\n",
    "adata.obs['doublet_info'] = adata.obs[\"detected_doublets\"].astype(str)\n",
    "sc.pl.violin(adata, 'n_genes_by_counts', jitter=0.4, groupby = 'doublet_info', rotation=45)\n",
    "adata.write(os.path.join(path_results, \"covid_filtered_removed_doublets.h5ad\"))"
   ]
  },
  {
   "cell_type": "markdown",
   "metadata": {
    "id": "oP-wxjByyK6j"
   },
   "source": [
    "In order to show the distribution of doublets among all the cells, we will do the following step:\n",
    "- Normalize and scale the data.  \n",
    "- Dimensionality reduction (you will read further below).  \n",
    "- Creating UMAP (you will read further below).  \n",
    "\n",
    "**Note: When you normalize the data the `data`  slot will be overwritten with the normalized counts.**  \n",
    "In order to have a copy of the raw data you can save it in a new variable (`adata.raw`).  "
   ]
  },
  {
   "cell_type": "markdown",
   "metadata": {
    "id": "fRCVxiy5yK6j"
   },
   "source": [
    "If you want to identify the distribution of doublet among cells in reduced dimenstional space, run the following chunk.  \n",
    "We will do this in dionsionality reduction step, further down."
   ]
  },
  {
   "cell_type": "code",
   "execution_count": null,
   "metadata": {
    "id": "5C5RwNVAyK6j"
   },
   "outputs": [],
   "source": [
    "adata = sc.read_h5ad(os.path.join(path_results, \"covid_filtered_removed_doublets.h5ad\"))"
   ]
  },
  {
   "cell_type": "code",
   "execution_count": null,
   "metadata": {
    "colab": {
     "base_uri": "https://localhost:8080/",
     "height": 247
    },
    "executionInfo": {
     "elapsed": 31713,
     "status": "ok",
     "timestamp": 1758031181717,
     "user": {
      "displayName": "Nils Mechtel",
      "userId": "11002650100693508568"
     },
     "user_tz": -120
    },
    "id": "EPJUzmOYyK6j",
    "outputId": "90dba279-77be-4b94-9d0b-c89fee4fcf65"
   },
   "outputs": [],
   "source": [
    "# save normalized counts in raw slot.\n",
    "adata.raw = adata\n",
    "sc.pp.normalize_per_cell(adata, counts_per_cell_after=1e4)\n",
    "\n",
    "# normalize to depth 10 000\n",
    "sc.pp.normalize_per_cell(adata, counts_per_cell_after=1e4)\n",
    "\n",
    "# logaritmize\n",
    "sc.pp.log1p(adata)\n",
    "\n",
    "# Identifying highly variable genes\n",
    "sc.pp.highly_variable_genes(adata, min_mean=0.0125, max_mean=3, min_disp=0.5)\n",
    "adata = adata[:, adata.var.highly_variable]\n",
    "sc.pp.regress_out(adata, ['total_counts', 'pct_counts_mt'])\n",
    "sc.pp.scale(adata, max_value=10)\n",
    "sc.tl.pca(adata, svd_solver='arpack')\n",
    "sc.pp.neighbors(adata, n_neighbors=10, n_pcs=40)\n",
    "sc.tl.umap(adata)\n",
    "sc.pl.umap(adata, color=['doublet_scores','doublet_info','sample'])"
   ]
  },
  {
   "cell_type": "markdown",
   "metadata": {
    "id": "48xEbs-syK6j"
   },
   "source": [
    "Now we can remove all the detected doublets"
   ]
  },
  {
   "cell_type": "code",
   "execution_count": null,
   "metadata": {
    "colab": {
     "base_uri": "https://localhost:8080/"
    },
    "executionInfo": {
     "elapsed": 663,
     "status": "ok",
     "timestamp": 1758031217933,
     "user": {
      "displayName": "Nils Mechtel",
      "userId": "11002650100693508568"
     },
     "user_tz": -120
    },
    "id": "bIxunR0_yK6j",
    "outputId": "971667cd-e3fa-4866-c805-16cafce35a5b"
   },
   "outputs": [],
   "source": [
    "# also revert back to the raw counts as the main matrix in adata\n",
    "adata = adata.raw.to_adata()\n",
    "\n",
    "adata = adata[adata.obs['doublet_info'] == 'False',:]\n",
    "print(adata.shape)\n",
    "#Saving the filtered object\n",
    "adata.write_h5ad(os.path.join(path_results, \"covid_filtered_removed_doublets.h5ad\"))\n"
   ]
  },
  {
   "cell_type": "markdown",
   "metadata": {
    "id": "paZJDczyyK6j"
   },
   "source": [
    "## Cell cycle state\n",
    "\n",
    "There are gene markers by which we can score the cell cycle state. The algorithm calculates the difference of mean expression of the given list and the mean expression of reference genes. To build the reference, the function randomly chooses a bunch of genes matching the distribution of the expression of the given list. Cell cycle scoring adds three slots in the metadata, a score for S phase, a score for G2M phase and the predicted cell cycle phase.  \n",
    "\n",
    "First read the file with cell cycle genes, from Regev lab and split into S and G2M phase genes. We first download the file.  "
   ]
  },
  {
   "cell_type": "code",
   "execution_count": null,
   "metadata": {
    "id": "y6yL9cJ3yK6j"
   },
   "outputs": [],
   "source": [
    "remote_file = 'https://export.uppmax.uu.se/naiss2023-23-3/workshops/workshop-scrnaseq/regev_lab_cell_cycle_genes.txt'\n",
    "path_file = os.path.join(path_results, 'regev_lab_cell_cycle_genes.txt')\n",
    "if not os.path.exists(path_file):\n",
    "    urllib.request.urlretrieve(remote_file, path_file)"
   ]
  },
  {
   "cell_type": "code",
   "execution_count": null,
   "metadata": {
    "colab": {
     "base_uri": "https://localhost:8080/"
    },
    "executionInfo": {
     "elapsed": 94,
     "status": "ok",
     "timestamp": 1758031416812,
     "user": {
      "displayName": "Nils Mechtel",
      "userId": "11002650100693508568"
     },
     "user_tz": -120
    },
    "id": "BNcK_0WhyK6j",
    "outputId": "12abaa95-3546-410b-f6d9-ae36a8cc2130"
   },
   "outputs": [],
   "source": [
    "cell_cycle_genes = [x.strip() for x in open(os.path.join(path_results, \"regev_lab_cell_cycle_genes.txt\"))]\n",
    "print(\"Number of cell cycle genes:\", len(cell_cycle_genes))\n",
    "\n",
    "cell_cycle_genes = [x for x in cell_cycle_genes if x in adata.var_names]\n",
    "print(\"Available number of cell cycle genes:\", len(cell_cycle_genes))\n",
    "\n",
    "# Split into 2 lists\n",
    "s_genes = cell_cycle_genes[:43]\n",
    "g2m_genes = cell_cycle_genes[43:]"
   ]
  },
  {
   "cell_type": "markdown",
   "metadata": {
    "id": "xXCdYLXByK6k"
   },
   "source": [
    "The data is already normalized and we can perform cell cycle scoring. The function is actually a wrapper to `sc.tl.score_gene_list`, which is launched twice, to score separately S and G2M phases. Both `sc.tl.score_gene_list` and` sc.tl.score_cell_cycle_genes` are a port from Seurat and are supposed to work in a very similar way."
   ]
  },
  {
   "cell_type": "code",
   "execution_count": null,
   "metadata": {
    "id": "xxXwL_O4yK6k"
   },
   "outputs": [],
   "source": [
    "sc.tl.score_genes_cell_cycle(adata, s_genes=s_genes, g2m_genes=g2m_genes)"
   ]
  },
  {
   "cell_type": "markdown",
   "metadata": {
    "id": "fVD5E7cmyK6k"
   },
   "source": [
    "Let's check the cell cycle scores in plots.  "
   ]
  },
  {
   "cell_type": "code",
   "execution_count": null,
   "metadata": {
    "colab": {
     "base_uri": "https://localhost:8080/",
     "height": 342
    },
    "executionInfo": {
     "elapsed": 2611,
     "status": "ok",
     "timestamp": 1758031453792,
     "user": {
      "displayName": "Nils Mechtel",
      "userId": "11002650100693508568"
     },
     "user_tz": -120
    },
    "id": "nymvUyVhyK6k",
    "outputId": "0a6dd7d8-071f-4bf8-b637-e5334df6ed5d"
   },
   "outputs": [],
   "source": [
    "sc.pl.violin(adata, ['S_score', 'G2M_score'], jitter=0.4, groupby = 'sample', rotation=45)"
   ]
  },
  {
   "cell_type": "markdown",
   "metadata": {
    "id": "eQLENU-RyK6k"
   },
   "source": [
    "In this case it looks like we only have a few cycling cells in these datasets and we do not need to regress out the cell cycle effect.\n",
    "\n",
    "Scanpy does an automatic prediction of cell cycle phase with a default cutoff of the scores at zero. As you can see this does not fit this data very well, so be cautios with using these predictions. Instead we suggest that you look at the scores."
   ]
  },
  {
   "cell_type": "code",
   "execution_count": null,
   "metadata": {
    "colab": {
     "base_uri": "https://localhost:8080/",
     "height": 453
    },
    "executionInfo": {
     "elapsed": 243,
     "status": "ok",
     "timestamp": 1758031457975,
     "user": {
      "displayName": "Nils Mechtel",
      "userId": "11002650100693508568"
     },
     "user_tz": -120
    },
    "id": "l3WAdp9oyK6k",
    "outputId": "7086c071-b019-4236-8733-2d2aefa995c7"
   },
   "outputs": [],
   "source": [
    "sc.pl.scatter(adata, x='S_score', y='G2M_score', color=\"phase\")"
   ]
  },
  {
   "cell_type": "code",
   "execution_count": null,
   "metadata": {
    "id": "3N1SWSPayK6k"
   },
   "outputs": [],
   "source": [
    "adata.write_h5ad(os.path.join(path_results, \"covid_filtered_removed_doublets_cell_cycle.h5ad\"))"
   ]
  },
  {
   "cell_type": "markdown",
   "metadata": {
    "id": "400SR66IyK6k"
   },
   "source": [
    "## Feature selection\n",
    "To reduce the feature dimension and redundancy as well as avoding overfitting in downstream analysis we perform feature selection. By this approach we focus on set of genes that can potentially explain biological variation in the dataset.  "
   ]
  },
  {
   "cell_type": "code",
   "execution_count": null,
   "metadata": {
    "colab": {
     "base_uri": "https://localhost:8080/",
     "height": 450
    },
    "executionInfo": {
     "elapsed": 2779,
     "status": "ok",
     "timestamp": 1758031471498,
     "user": {
      "displayName": "Nils Mechtel",
      "userId": "11002650100693508568"
     },
     "user_tz": -120
    },
    "id": "aov7gEQJyK6k",
    "outputId": "5d90ca34-74e0-468f-b922-dd73635a5416"
   },
   "outputs": [],
   "source": [
    "# Load the data filtered data\n",
    "adata = sc.read_h5ad(os.path.join(path_results, \"covid_filtered_removed_doublets_cell_cycle.h5ad\"))\n",
    "sc.pp.normalize_per_cell(adata, counts_per_cell_after=1e4)\n",
    "\n",
    "# logaritmize\n",
    "sc.pp.log1p(adata)\n",
    "\n",
    "\n",
    "# store normalized counts in the raw slot,\n",
    "# we will subset adata.X for variable genes, but want to keep all genes matrix as well.\n",
    "adata.raw = adata\n",
    "\n",
    "# Identifying highly variable genes\n",
    "sc.pp.highly_variable_genes(adata, min_mean=0.0125, max_mean=3, min_disp=0.5)\n",
    "\n",
    "print(\"Highly variable genes: %d\"%sum(adata.var.highly_variable))\n",
    "\n",
    "#plot variable genes\n",
    "sc.pl.highly_variable_genes(adata)\n",
    "\n",
    "# subset for variable genes in the dataset\n",
    "adata = adata[:, adata.var['highly_variable']]"
   ]
  },
  {
   "cell_type": "markdown",
   "metadata": {
    "id": "sOUiemYMyK6k"
   },
   "source": [
    "## Diomensionality reduction\n",
    "\n",
    "After feature selection, we can still reduce the complexity (dimenstion) of the data using different algorithms:   \n",
    "- PCA (Linear)  \n",
    "- t-SNE & UMAP (non-linear)  "
   ]
  },
  {
   "cell_type": "markdown",
   "metadata": {
    "id": "cdW3JgC7yK6k"
   },
   "source": [
    "### PCA\n",
    "To do this we first perform PCA and then plot the PCs (PC1 - PC7)  "
   ]
  },
  {
   "cell_type": "code",
   "execution_count": null,
   "metadata": {
    "colab": {
     "base_uri": "https://localhost:8080/",
     "height": 680
    },
    "executionInfo": {
     "elapsed": 3552,
     "status": "ok",
     "timestamp": 1758031478869,
     "user": {
      "displayName": "Nils Mechtel",
      "userId": "11002650100693508568"
     },
     "user_tz": -120
    },
    "id": "jxDezkF0yK6k",
    "outputId": "6815e837-cac6-4fc7-fb36-fb68d88033c5"
   },
   "outputs": [],
   "source": [
    "# Calculating PCs\n",
    "sc.tl.pca(adata, svd_solver='arpack')\n",
    "# Visualising PCs\n",
    "sc.pl.pca(adata, color='sample', components = ['1,2','3,4','5,6','7,8'], ncols=2)"
   ]
  },
  {
   "cell_type": "markdown",
   "metadata": {
    "id": "yxMm0c0MyK6k"
   },
   "source": [
    "You can also check which genes contributed to the capture variation in each PCs  "
   ]
  },
  {
   "cell_type": "code",
   "execution_count": null,
   "metadata": {
    "colab": {
     "base_uri": "https://localhost:8080/",
     "height": 425
    },
    "executionInfo": {
     "elapsed": 1319,
     "status": "ok",
     "timestamp": 1758031482583,
     "user": {
      "displayName": "Nils Mechtel",
      "userId": "11002650100693508568"
     },
     "user_tz": -120
    },
    "id": "En6zGAH-yK6k",
    "outputId": "4482faaa-b91b-4cbe-8c94-8a9812e6a419"
   },
   "outputs": [],
   "source": [
    "sc.pl.pca_loadings(adata, components=[1,2,3,4,5,6,7,8])\n",
    "# OBS! only plots the positive axes genes from each PC!!"
   ]
  },
  {
   "cell_type": "markdown",
   "metadata": {
    "id": "oeIXIWzHyK6k"
   },
   "source": [
    "Remember that not all the PCs can capture large fraction of the variance and can be discarded. By ranking the PCs we can identify elbow pattern and exclude them."
   ]
  },
  {
   "cell_type": "code",
   "execution_count": null,
   "metadata": {
    "colab": {
     "base_uri": "https://localhost:8080/",
     "height": 472
    },
    "executionInfo": {
     "elapsed": 215,
     "status": "ok",
     "timestamp": 1758031488688,
     "user": {
      "displayName": "Nils Mechtel",
      "userId": "11002650100693508568"
     },
     "user_tz": -120
    },
    "id": "4tn5PalmyK6k",
    "outputId": "0e8dc89d-fb13-427e-b5d9-37f939a30490"
   },
   "outputs": [],
   "source": [
    "sc.pl.pca_variance_ratio(adata, log=True, n_pcs = 50)"
   ]
  },
  {
   "cell_type": "markdown",
   "metadata": {
    "id": "orESigrByK6k"
   },
   "source": [
    "Top 21 PCs explain large fraction of variation or in other words retain a lot of information, while the rest of the PCs contain progressively less information. That said, it is still recommended to use more PCs since they can explain larger fraction of the variation and help to characterise rare cell types (e.g. platelets & DCs in this dataset)."
   ]
  },
  {
   "cell_type": "markdown",
   "metadata": {
    "id": "eAcoMvM9yK6k"
   },
   "source": [
    "### t-SNE"
   ]
  },
  {
   "cell_type": "code",
   "execution_count": null,
   "metadata": {
    "id": "A-VJOieKyK6k"
   },
   "outputs": [],
   "source": [
    "sc.tl.tsne(adata, n_pcs = 30)"
   ]
  },
  {
   "cell_type": "markdown",
   "metadata": {
    "id": "8hKHrDhuyK6k"
   },
   "source": [
    "We plot t-SNE scatterplot colored by sample IDs. As you can see there is a clear pattern of batch effect (there are not much overlap among samples while these samples should have some overlap indicating similar cell types)."
   ]
  },
  {
   "cell_type": "code",
   "execution_count": null,
   "metadata": {
    "colab": {
     "base_uri": "https://localhost:8080/",
     "height": 448
    },
    "executionInfo": {
     "elapsed": 607,
     "status": "ok",
     "timestamp": 1758031572252,
     "user": {
      "displayName": "Nils Mechtel",
      "userId": "11002650100693508568"
     },
     "user_tz": -120
    },
    "id": "fY1d7UIIyK6k",
    "outputId": "c9f203e4-d991-49e7-9e89-75f2d6f728ab"
   },
   "outputs": [],
   "source": [
    "sc.pl.tsne(adata, color=['sample'])"
   ]
  },
  {
   "cell_type": "markdown",
   "metadata": {
    "id": "O-ZcOIM3yK6k"
   },
   "source": [
    "### UMAP\n",
    "\n",
    "SCANPY uses a neighbourhood graph as the distance matrix, so we need to first calculate the graph."
   ]
  },
  {
   "cell_type": "code",
   "execution_count": null,
   "metadata": {
    "id": "UbSpMPQ9yK6l"
   },
   "outputs": [],
   "source": [
    "sc.pp.neighbors(adata, n_pcs=30, n_neighbors = 30)"
   ]
  },
  {
   "cell_type": "markdown",
   "metadata": {
    "id": "zlcGdQ0lyK6l"
   },
   "source": [
    "Now we run UMAP for all cell embeddings."
   ]
  },
  {
   "cell_type": "code",
   "execution_count": null,
   "metadata": {
    "colab": {
     "base_uri": "https://localhost:8080/",
     "height": 448
    },
    "executionInfo": {
     "elapsed": 19438,
     "status": "ok",
     "timestamp": 1758031591854,
     "user": {
      "displayName": "Nils Mechtel",
      "userId": "11002650100693508568"
     },
     "user_tz": -120
    },
    "id": "L6XjV3GwyK6l",
    "outputId": "66a31f2d-d4b0-4ccd-b97d-93bbfc317439"
   },
   "outputs": [],
   "source": [
    "sc.tl.umap(adata)\n",
    "sc.pl.umap(adata, color = 'sample')"
   ]
  },
  {
   "cell_type": "markdown",
   "metadata": {
    "id": "J-SiPvSjyK6l"
   },
   "source": [
    "Here you can again see the batch effect.  \n",
    "You can also select given number of components to calculate umap and also visualise neighbour edges, which shows the distance or connection among the cells dependent on their expression profile (?=??)"
   ]
  },
  {
   "cell_type": "code",
   "execution_count": null,
   "metadata": {
    "colab": {
     "base_uri": "https://localhost:8080/",
     "height": 850
    },
    "executionInfo": {
     "elapsed": 33346,
     "status": "ok",
     "timestamp": 1758031625203,
     "user": {
      "displayName": "Nils Mechtel",
      "userId": "11002650100693508568"
     },
     "user_tz": -120
    },
    "id": "1o1brar-yK6l",
    "outputId": "578198c1-a3bf-46a4-ed3c-0d8bf0106b01"
   },
   "outputs": [],
   "source": [
    "# run with 10 components, save to a new object so that the umap with 2D is not overwritten.\n",
    "umap10 = sc.tl.umap(adata, n_components=10, copy=True)\n",
    "fig, axs = plt.subplots(1, 3, figsize=(10, 4), constrained_layout=True)\n",
    "\n",
    "sc.pl.umap(adata, color='sample',  title=\"UMAP\",\n",
    "           show=False, ax=axs[0], legend_loc=None)\n",
    "sc.pl.umap(umap10, color='sample', title=\"UMAP10\", show=False,\n",
    "           ax=axs[1], components=['1,2'], legend_loc=None)\n",
    "sc.pl.umap(umap10, color='sample', title=\"UMAP10\",\n",
    "           show=False, ax=axs[2], components=['3,4'], legend_loc=None)\n",
    "\n",
    "# we can also plot the umap with neighbor edges\n",
    "sc.pl.umap(adata, color='sample', title=\"UMAP\", edges=True)"
   ]
  },
  {
   "cell_type": "markdown",
   "metadata": {
    "id": "S9KjREaYyK6l"
   },
   "source": [
    "Now let's compare different approaches for dimensionality reduction (PCA, t-SNE, and UMAP).\n",
    "Probably one of the main conclusion is presence of the batch effect and can have a strong impact on downstream analysis (differential gene expression)."
   ]
  },
  {
   "cell_type": "code",
   "execution_count": null,
   "metadata": {
    "colab": {
     "base_uri": "https://localhost:8080/",
     "height": 827
    },
    "executionInfo": {
     "elapsed": 3463,
     "status": "ok",
     "timestamp": 1758031628665,
     "user": {
      "displayName": "Nils Mechtel",
      "userId": "11002650100693508568"
     },
     "user_tz": -120
    },
    "id": "Ezetp0P1yK6l",
    "outputId": "bbc35c13-b5de-4fdd-eb5d-7b78a5213efa"
   },
   "outputs": [],
   "source": [
    "fig, axs = plt.subplots(2, 2, figsize=(10, 8), constrained_layout=True)\n",
    "sc.pl.pca(adata, color='sample', components=['1,2'], ax=axs[0, 0], show=False)\n",
    "sc.pl.tsne(adata, color='sample', components=['1,2'], ax=axs[0, 1], show=False)\n",
    "sc.pl.umap(adata, color='sample', components=['1,2'], ax=axs[1, 0], show=False)"
   ]
  },
  {
   "cell_type": "markdown",
   "metadata": {
    "id": "FHaPlGvrjKF4"
   },
   "source": [
    "### ⭐ **Task**\n",
    "\n",
    "What else can you see? Do you see any difference or similarity? Write down your observations below."
   ]
  },
  {
   "cell_type": "markdown",
   "metadata": {
    "id": "SdsTWx9o7elQ"
   },
   "source": [
    "`⭐ Edit this cell to write your answers below:`\n",
    "\n",
    "-"
   ]
  },
  {
   "cell_type": "markdown",
   "metadata": {
    "id": "CHITHOsnyK6l"
   },
   "source": [
    "Now we can visulaise QC metrics in the generated UMAP."
   ]
  },
  {
   "cell_type": "code",
   "execution_count": null,
   "metadata": {
    "colab": {
     "base_uri": "https://localhost:8080/",
     "height": 370
    },
    "executionInfo": {
     "elapsed": 699,
     "status": "ok",
     "timestamp": 1758031629395,
     "user": {
      "displayName": "Nils Mechtel",
      "userId": "11002650100693508568"
     },
     "user_tz": -120
    },
    "id": "WB4jI0oVyK6l",
    "outputId": "7c6701c1-8be1-4985-aadd-933b74c42681"
   },
   "outputs": [],
   "source": [
    "sc.pl.umap(\n",
    "    adata,\n",
    "    color=[\"total_counts\", \"pct_counts_mt\"],\n",
    ")"
   ]
  },
  {
   "cell_type": "markdown",
   "metadata": {
    "id": "tgilYAqpyK6l"
   },
   "source": [
    "Or visualise genes of interest"
   ]
  },
  {
   "cell_type": "code",
   "execution_count": null,
   "metadata": {
    "colab": {
     "base_uri": "https://localhost:8080/",
     "height": 372
    },
    "executionInfo": {
     "elapsed": 1650,
     "status": "ok",
     "timestamp": 1758031631047,
     "user": {
      "displayName": "Nils Mechtel",
      "userId": "11002650100693508568"
     },
     "user_tz": -120
    },
    "id": "oov-x8kdyK6l",
    "outputId": "9c319289-d82e-4766-fce1-0afefdbe05bf"
   },
   "outputs": [],
   "source": [
    "sc.pl.umap(adata,\n",
    "           color=[\"CD3E\", \"CD8A\", \"MS4A1\",\"CD14\",\n",
    "                  \"CST3\",\"MS4A7\",\"FCGR3A\"])"
   ]
  },
  {
   "cell_type": "markdown",
   "metadata": {
    "id": "zhhG7h2KyK6l"
   },
   "source": [
    "Saving the object."
   ]
  },
  {
   "cell_type": "code",
   "execution_count": null,
   "metadata": {
    "id": "jyLZvkARyK6l"
   },
   "outputs": [],
   "source": [
    "adata.write_h5ad(os.path.join(path_results, \"covid_filtered_removed_doublets_dr.h5ad\"))"
   ]
  },
  {
   "cell_type": "markdown",
   "metadata": {
    "id": "nLMrIfJmyK6l"
   },
   "source": [
    "## Data Integration (Batch correction)"
   ]
  },
  {
   "cell_type": "code",
   "execution_count": null,
   "metadata": {
    "colab": {
     "base_uri": "https://localhost:8080/"
    },
    "executionInfo": {
     "elapsed": 64,
     "status": "ok",
     "timestamp": 1758031631117,
     "user": {
      "displayName": "Nils Mechtel",
      "userId": "11002650100693508568"
     },
     "user_tz": -120
    },
    "id": "xCli5DZ6yK6l",
    "outputId": "530364b8-77ca-483c-a420-8a2d5c837cbb"
   },
   "outputs": [],
   "source": [
    "adata2 = adata.raw.to_adata()\n",
    "\n",
    "# in some versions of Anndata there is an issue with information on the logtransformation in the slot log1p.base so we set it to None to not get errors.\n",
    "adata2.uns['log1p']['base']=None\n",
    "\n",
    "# check that the matrix looks like normalized counts\n",
    "print(adata2.X[1:10,1:10])"
   ]
  },
  {
   "cell_type": "markdown",
   "metadata": {
    "id": "5o56ShhgyK6l"
   },
   "source": [
    "### Detection of variable genes"
   ]
  },
  {
   "cell_type": "code",
   "execution_count": null,
   "metadata": {
    "colab": {
     "base_uri": "https://localhost:8080/"
    },
    "executionInfo": {
     "elapsed": 17,
     "status": "ok",
     "timestamp": 1758031631136,
     "user": {
      "displayName": "Nils Mechtel",
      "userId": "11002650100693508568"
     },
     "user_tz": -120
    },
    "id": "SbTncsyMyK6l",
    "outputId": "4b1976d5-41e4-48b4-cec5-2fc0afc330de"
   },
   "outputs": [],
   "source": [
    "var_genes_all = adata.var.highly_variable\n",
    "\n",
    "print(\"Highly variable genes: %d\"%sum(var_genes_all))"
   ]
  },
  {
   "cell_type": "markdown",
   "metadata": {
    "id": "zCePCRouyK6l"
   },
   "source": [
    "Now, we extract variable genes in each sample using `batch_key` parameter."
   ]
  },
  {
   "cell_type": "code",
   "execution_count": null,
   "metadata": {
    "colab": {
     "base_uri": "https://localhost:8080/"
    },
    "executionInfo": {
     "elapsed": 440,
     "status": "ok",
     "timestamp": 1758031631578,
     "user": {
      "displayName": "Nils Mechtel",
      "userId": "11002650100693508568"
     },
     "user_tz": -120
    },
    "id": "U3M3EpqHyK6l",
    "outputId": "67fa208a-d550-481f-994e-5524a4431e7b"
   },
   "outputs": [],
   "source": [
    "sc.pp.highly_variable_genes(adata2, min_mean=0.0125, max_mean=3, min_disp=0.5, batch_key = 'sample')\n",
    "\n",
    "print(\"Highly variable genes intersection: %d\"%sum(adata2.var.highly_variable_intersection))\n",
    "\n",
    "print(\"Number of batches where gene is variable:\")\n",
    "print(adata2.var.highly_variable_nbatches.value_counts())\n",
    "\n",
    "var_genes_batch = adata2.var.highly_variable_nbatches > 0"
   ]
  },
  {
   "cell_type": "code",
   "execution_count": null,
   "metadata": {
    "colab": {
     "base_uri": "https://localhost:8080/"
    },
    "executionInfo": {
     "elapsed": 81,
     "status": "ok",
     "timestamp": 1758031631662,
     "user": {
      "displayName": "Nils Mechtel",
      "userId": "11002650100693508568"
     },
     "user_tz": -120
    },
    "id": "eeyCC4-byK6l",
    "outputId": "9ad316e4-5734-4fb5-ada9-8740a59f953f"
   },
   "outputs": [],
   "source": [
    "print(\"Any batch var genes: %d\"%sum(var_genes_batch))\n",
    "print(\"All data var genes: %d\"%sum(var_genes_all))\n",
    "print(\"Overlap: %d\"%sum(var_genes_batch & var_genes_all))\n",
    "print(\"Variable genes in all batches: %d\"%sum(adata2.var.highly_variable_nbatches == 6))\n",
    "print(\"Overlap batch instersection and all: %d\"%sum(var_genes_all & adata2.var.highly_variable_intersection))"
   ]
  },
  {
   "cell_type": "markdown",
   "metadata": {
    "id": "JqiKH9feyK6l"
   },
   "source": [
    "Select all genes that are variable in at least 2 datasets and use for remaining analysis."
   ]
  },
  {
   "cell_type": "code",
   "execution_count": null,
   "metadata": {
    "colab": {
     "base_uri": "https://localhost:8080/"
    },
    "executionInfo": {
     "elapsed": 52,
     "status": "ok",
     "timestamp": 1758031631716,
     "user": {
      "displayName": "Nils Mechtel",
      "userId": "11002650100693508568"
     },
     "user_tz": -120
    },
    "id": "CX3ygwMSyK6m",
    "outputId": "75939369-1d21-4edb-dfe4-99a59e54522e"
   },
   "outputs": [],
   "source": [
    "var_select = adata2.var.highly_variable_nbatches > 2\n",
    "var_genes = var_select.index[var_select]\n",
    "len(var_genes)"
   ]
  },
  {
   "cell_type": "markdown",
   "metadata": {
    "id": "N-GCrNVDyK6m"
   },
   "source": [
    "### Harmony"
   ]
  },
  {
   "cell_type": "markdown",
   "metadata": {
    "id": "F0pGczhVyK6m"
   },
   "source": [
    "We use `Harmony`  to integrate the data.  "
   ]
  },
  {
   "cell_type": "code",
   "execution_count": null,
   "metadata": {
    "colab": {
     "base_uri": "https://localhost:8080/"
    },
    "executionInfo": {
     "elapsed": 34779,
     "status": "ok",
     "timestamp": 1758031666496,
     "user": {
      "displayName": "Nils Mechtel",
      "userId": "11002650100693508568"
     },
     "user_tz": -120
    },
    "id": "8VuqphEkyK6m",
    "outputId": "593ce806-45fa-4ff1-e9b5-cff0c3ef7f15"
   },
   "outputs": [],
   "source": [
    "sce.pp.harmony_integrate(adata2, 'sample')\n",
    "\n",
    "adata2.obsm['X_pca'] = adata2.obsm['X_pca_harmony']\n",
    "sc.pp.neighbors(adata2, n_neighbors=10, n_pcs=30)\n",
    "sc.tl.umap(adata2)\n",
    "sc.tl.leiden(adata2, resolution=0.5)"
   ]
  },
  {
   "cell_type": "markdown",
   "metadata": {
    "id": "GwwYasc3yK6m"
   },
   "source": [
    "Now we  replot the UMAP after integration. You can see that the cells have been overlap."
   ]
  },
  {
   "cell_type": "code",
   "execution_count": null,
   "metadata": {
    "colab": {
     "base_uri": "https://localhost:8080/",
     "height": 534
    },
    "executionInfo": {
     "elapsed": 1418,
     "status": "ok",
     "timestamp": 1758031667918,
     "user": {
      "displayName": "Nils Mechtel",
      "userId": "11002650100693508568"
     },
     "user_tz": -120
    },
    "id": "cGjOUU3yyK6m",
    "outputId": "ef58af65-4eab-4fdc-a926-8aa1d3d06d09"
   },
   "outputs": [],
   "source": [
    "fig, axs = plt.subplots(1, 2, figsize=(10,5),constrained_layout=True)\n",
    "sc.pl.umap(adata2, color=\"sample\", title=\"Harmony Corrected umap\", ax=axs[0], show=False)\n",
    "sc.pl.umap(adata, color=\"sample\", title=\"Uncorrected umap\", ax=axs[1], show=False)"
   ]
  },
  {
   "cell_type": "markdown",
   "metadata": {
    "id": "bLQ2HoCnyK6m"
   },
   "source": [
    "Let’s save the integrated data for further analysis."
   ]
  },
  {
   "cell_type": "code",
   "execution_count": null,
   "metadata": {
    "id": "K-LjvlutyK6m"
   },
   "outputs": [],
   "source": [
    "adata2.write_h5ad(os.path.join(path_results, \"covid_filtered_removed_doublets_dr_harmony.h5ad\"))"
   ]
  },
  {
   "cell_type": "markdown",
   "metadata": {
    "id": "eyHWdypiyK6m"
   },
   "source": [
    "### BBKNN\n",
    "\n",
    "BBKNN (Batch Balanced K-Nearest Neighbors) is another method used in the analysis of single-cell RNA sequencing (scRNA-seq) data to address batch effects during dimensionality reduction and clustering."
   ]
  },
  {
   "cell_type": "code",
   "execution_count": null,
   "metadata": {
    "id": "veUJ713xyK6m"
   },
   "outputs": [],
   "source": [
    "adata_bbkn = adata.raw.to_adata()\n",
    "\n",
    "# in some versions of Anndata there is an issue with information on the logtransformation in the slot log1p.base so we set it to None to not get errors.\n",
    "adata_bbkn.uns['log1p']['base']=None\n",
    "\n",
    "bbknn.bbknn(adata_bbkn,batch_key='sample')\n",
    "\n",
    "# then run umap on the integrated space\n",
    "sc.tl.umap(adata_bbkn)\n",
    "sc.tl.tsne(adata_bbkn)"
   ]
  },
  {
   "cell_type": "markdown",
   "metadata": {
    "id": "RQ2mR_aPyK6m"
   },
   "source": [
    "Plots"
   ]
  },
  {
   "cell_type": "code",
   "execution_count": null,
   "metadata": {
    "colab": {
     "base_uri": "https://localhost:8080/",
     "height": 534
    },
    "executionInfo": {
     "elapsed": 1888,
     "status": "ok",
     "timestamp": 1758031777183,
     "user": {
      "displayName": "Nils Mechtel",
      "userId": "11002650100693508568"
     },
     "user_tz": -120
    },
    "id": "eN--DqNEyK6m",
    "outputId": "2241eb60-e552-41ab-9ff7-041fd15d03e9"
   },
   "outputs": [],
   "source": [
    "fig, axs = plt.subplots(1, 2, figsize=(10,5),constrained_layout=True)\n",
    "sc.pl.umap(adata_bbkn, color=\"sample\", title=\"BBKNN Corrected umap\", ax=axs[0], show=False)\n",
    "sc.pl.umap(adata, color=\"sample\", title=\"Uncorrected umap\", ax=axs[1], show=False)"
   ]
  },
  {
   "cell_type": "markdown",
   "metadata": {
    "id": "9lAlIXlfyK6m"
   },
   "source": [
    "Let’s save the integrated data for further analysis."
   ]
  },
  {
   "cell_type": "code",
   "execution_count": null,
   "metadata": {
    "id": "E8x-MOIYyK6m"
   },
   "outputs": [],
   "source": [
    "adata2.write_h5ad(os.path.join(path_results, \"covid_filtered_removed_doublets_dr_bbknn.h5ad\"))"
   ]
  },
  {
   "cell_type": "markdown",
   "metadata": {
    "id": "Ecf_Rr6CyK6m"
   },
   "source": [
    "### Combat\n",
    "Batch correction can also be performed using `ComBat`, a method widely used for batch effect correction in both scRNASeq and bulk RNASeq data. It's important to note that `ComBat` requires the input data to be in a dense matrix format, which is already the case in this example."
   ]
  },
  {
   "cell_type": "code",
   "execution_count": null,
   "metadata": {
    "id": "ws18U57iyK6m"
   },
   "outputs": [],
   "source": [
    "# create a new object with lognormalized counts\n",
    "adata_combat = sc.AnnData(X=adata.raw.X, var=adata.raw.var, obs = adata.obs)\n",
    "\n",
    "# first store the raw data\n",
    "adata_combat.raw = adata_combat\n",
    "\n",
    "# run combat\n",
    "sc.pp.combat(adata_combat, key='sample')"
   ]
  },
  {
   "cell_type": "markdown",
   "metadata": {
    "id": "6v64NUDGyK6n"
   },
   "source": [
    "To generate figures we require to rerun the standard steps as before:\n",
    "- Vairable gene selection\n",
    "- Calculating PCs\n",
    "- t-SNE & UMAP"
   ]
  },
  {
   "cell_type": "code",
   "execution_count": null,
   "metadata": {
    "colab": {
     "base_uri": "https://localhost:8080/",
     "height": 437
    },
    "executionInfo": {
     "elapsed": 114198,
     "status": "ok",
     "timestamp": 1758031936874,
     "user": {
      "displayName": "Nils Mechtel",
      "userId": "11002650100693508568"
     },
     "user_tz": -120
    },
    "id": "d0Ndx_GpyK6n",
    "outputId": "dcb92aa8-db9b-4c38-9f61-b77f2ee70d62"
   },
   "outputs": [],
   "source": [
    "sc.pp.highly_variable_genes(adata_combat)\n",
    "print(\"Highly variable genes: %d\"%sum(adata_combat.var.highly_variable))\n",
    "sc.pl.highly_variable_genes(adata_combat)\n",
    "\n",
    "sc.pp.pca(adata_combat, n_comps=30, use_highly_variable=True, svd_solver='arpack')\n",
    "\n",
    "sc.pp.neighbors(adata_combat)\n",
    "\n",
    "sc.tl.umap(adata_combat)\n",
    "sc.tl.tsne(adata_combat)"
   ]
  },
  {
   "cell_type": "markdown",
   "metadata": {
    "id": "6CpjsLQ5yK6n"
   },
   "source": [
    "We plot integrated and unintegrated data by using `ComBat`."
   ]
  },
  {
   "cell_type": "code",
   "execution_count": null,
   "metadata": {
    "colab": {
     "base_uri": "https://localhost:8080/",
     "height": 534
    },
    "executionInfo": {
     "elapsed": 2360,
     "status": "ok",
     "timestamp": 1758031939220,
     "user": {
      "displayName": "Nils Mechtel",
      "userId": "11002650100693508568"
     },
     "user_tz": -120
    },
    "id": "4w84adJSyK6n",
    "outputId": "5cfb6938-fb08-4dd8-fb12-eac5a839b16d"
   },
   "outputs": [],
   "source": [
    "fig, axs = plt.subplots(1, 2, figsize=(10,5),constrained_layout=True)\n",
    "sc.pl.umap(adata_combat, color=\"sample\", title=\"Combat corrected umap\", ax=axs[0], show=False)\n",
    "sc.pl.umap(adata, color=\"sample\", title=\"Uncorrected umap\", ax=axs[1], show=False)"
   ]
  },
  {
   "cell_type": "markdown",
   "metadata": {
    "id": "4uSJ01kZyK6n"
   },
   "source": [
    "Let’s save the integrated data for further analysis."
   ]
  },
  {
   "cell_type": "code",
   "execution_count": null,
   "metadata": {
    "id": "TZrAGlGOyK6n"
   },
   "outputs": [],
   "source": [
    "adata2.write_h5ad(os.path.join(path_results, \"covid_filtered_removed_doublets_dr_combat.h5ad\"))"
   ]
  },
  {
   "cell_type": "markdown",
   "metadata": {
    "id": "nwk_le9zyK6n"
   },
   "source": [
    "Now let's plot the output of all of the integration methods"
   ]
  },
  {
   "cell_type": "code",
   "execution_count": null,
   "metadata": {
    "colab": {
     "base_uri": "https://localhost:8080/",
     "height": 827
    },
    "executionInfo": {
     "elapsed": 2011,
     "status": "ok",
     "timestamp": 1758031941237,
     "user": {
      "displayName": "Nils Mechtel",
      "userId": "11002650100693508568"
     },
     "user_tz": -120
    },
    "id": "HzA4uIl5yK6n",
    "outputId": "2208b3cf-2763-4dfe-ff09-d102422e1772"
   },
   "outputs": [],
   "source": [
    "fig, axs = plt.subplots(2, 2, figsize=(10,8),constrained_layout=True)\n",
    "sc.pl.umap(adata_bbkn, color=\"sample\", title=\"BBKNN corrected umap\", ax=axs[0,0], show=False)\n",
    "sc.pl.umap(adata_combat, color=\"sample\", title=\"Combat corrected umap\", ax=axs[0,1], show=False)\n",
    "sc.pl.umap(adata2, color=\"sample\", title=\"Harmony corrected umap\", ax=axs[1,0], show=False)\n",
    "sc.pl.umap(adata, color=\"sample\", title=\"Uncorrected umap\", ax=axs[1,1], show=False)"
   ]
  },
  {
   "cell_type": "markdown",
   "metadata": {
    "id": "N28Sd6LayK6n"
   },
   "source": [
    "## Clustering\n",
    "Clustering is an unsupervised machine learning problem. We lable clusters by minimizing the intra-cluster distance in the reduced expression space. In this exercise, we use Leiden algorithm for clustering which is an improved version of Louvian algorithm (read more [here]()).\n",
    "\n",
    "There are different approaches in clustering:\n",
    "- Graph-based:\n",
    "- K-means:\n",
    "- Hierarchical:\n",
    "\n",
    "**NOTE:** Louvian algorithm is no longer maintained.\n",
    "\n",
    "It is done in three steps:  \n",
    "- Build a kNN graph from the data.  \n",
    "- Prune spurious connections from kNN graph (optional step). This is a SNN graph.  \n",
    "- Find groups of cells that maximizes the connections within the group compared other groups.  \n",
    "\n",
    "If you recall from the integration, we already constructed a knn graph before running UMAP. Hence we do not need to do it again, and can run the community detection right away.\n",
    "\n",
    "The modularity optimization algoritm in Scanpy are Leiden and Louvain. Lets test both and see how they compare.\n",
    "\n",
    "**NOTE:** Please note that we will be working with `harmony` integration output"
   ]
  },
  {
   "cell_type": "markdown",
   "metadata": {
    "id": "rGT1QWU_yK6n"
   },
   "source": [
    "### Leiden\n"
   ]
  },
  {
   "cell_type": "code",
   "execution_count": null,
   "metadata": {
    "id": "OfIgHKiYyK6n"
   },
   "outputs": [],
   "source": [
    "# Loading the anndata with integration by harmony\n",
    "adata = sc.read_h5ad(os.path.join(path_results, \"covid_filtered_removed_doublets_dr_harmony.h5ad\"))"
   ]
  },
  {
   "cell_type": "code",
   "execution_count": null,
   "metadata": {
    "id": "BilPvqwcyK6n"
   },
   "outputs": [],
   "source": [
    "sc.tl.leiden(adata, key_added = \"leiden_1.0\") # default resolution in 1.0\n",
    "sc.tl.leiden(adata, resolution = 0.6, key_added = \"leiden_0.6\")\n",
    "sc.tl.leiden(adata, resolution = 0.4, key_added = \"leiden_0.4\")\n",
    "sc.tl.leiden(adata, resolution = 1.4, key_added = \"leiden_1.4\")"
   ]
  },
  {
   "cell_type": "markdown",
   "metadata": {
    "id": "8AETT8vGyK6n"
   },
   "source": [
    "Plot the clusters: As you can observe, increasing the resolution results in finer granularity within the clustering, allowing for more detailed separation of cell groups. But you need to back it up by biological information you have."
   ]
  },
  {
   "cell_type": "code",
   "execution_count": null,
   "metadata": {
    "colab": {
     "base_uri": "https://localhost:8080/",
     "height": 189
    },
    "executionInfo": {
     "elapsed": 3590,
     "status": "ok",
     "timestamp": 1758031956488,
     "user": {
      "displayName": "Nils Mechtel",
      "userId": "11002650100693508568"
     },
     "user_tz": -120
    },
    "id": "JRhpqouMyK6n",
    "outputId": "d1e33e2e-38dd-458c-f37c-fd4084fa0e82"
   },
   "outputs": [],
   "source": [
    "sc.pl.umap(adata, color=['leiden_0.4', 'leiden_0.6', 'leiden_1.0','leiden_1.4'])"
   ]
  },
  {
   "cell_type": "markdown",
   "metadata": {
    "id": "7if2jmdpyK6n"
   },
   "source": [
    "We can show the relationship between clusters by claculating correlation in PCA space."
   ]
  },
  {
   "cell_type": "code",
   "execution_count": null,
   "metadata": {
    "colab": {
     "base_uri": "https://localhost:8080/",
     "height": 449
    },
    "executionInfo": {
     "elapsed": 52,
     "status": "ok",
     "timestamp": 1758031956543,
     "user": {
      "displayName": "Nils Mechtel",
      "userId": "11002650100693508568"
     },
     "user_tz": -120
    },
    "id": "yMC7gYCgyK6n",
    "outputId": "f18d5b8a-77cb-4a8b-a75a-3590822a0968"
   },
   "outputs": [],
   "source": [
    "sc.tl.dendrogram(adata, groupby = \"leiden_0.6\")\n",
    "sc.pl.dendrogram(adata, groupby = \"leiden_0.6\")"
   ]
  },
  {
   "cell_type": "markdown",
   "metadata": {
    "id": "hXeZRLlZyK6n"
   },
   "source": [
    "Try to do the same for other resolutions."
   ]
  },
  {
   "cell_type": "markdown",
   "metadata": {
    "id": "Ur69WEvAyK6n"
   },
   "source": [
    "As explained above using prior biological information about the system you are studying can come in hand to evaluate the clustering output. For example you can visualise expression of marker genes. Try to do that by using the same genes used in domensionality reduction step."
   ]
  },
  {
   "cell_type": "code",
   "execution_count": null,
   "metadata": {
    "colab": {
     "base_uri": "https://localhost:8080/",
     "height": 709
    },
    "executionInfo": {
     "elapsed": 153,
     "status": "ok",
     "timestamp": 1758031956705,
     "user": {
      "displayName": "Nils Mechtel",
      "userId": "11002650100693508568"
     },
     "user_tz": -120
    },
    "id": "66Axeh82yK6n",
    "outputId": "bb0f3c80-0738-4c83-bab9-e475f3990cf4"
   },
   "outputs": [],
   "source": [
    "genes = [\"CD3E\", \"CD8A\", \"MS4A1\",\"CD14\",\n",
    "                  \"CST3\",\"MS4A7\",\"FCGR3A\"]\n",
    "sc.pl.dotplot(adata, genes, groupby='leiden_0.6', dendrogram=True, figsize=(8, 8))"
   ]
  },
  {
   "cell_type": "markdown",
   "metadata": {
    "id": "q5TWRsMMyK6n"
   },
   "source": [
    "### K-means\n",
    "In this approach, we first set the number of clusters. It is recommended to run K-means with multiple starting configurations.  "
   ]
  },
  {
   "cell_type": "code",
   "execution_count": null,
   "metadata": {
    "colab": {
     "base_uri": "https://localhost:8080/",
     "height": 261
    },
    "executionInfo": {
     "elapsed": 1815,
     "status": "ok",
     "timestamp": 1758031958534,
     "user": {
      "displayName": "Nils Mechtel",
      "userId": "11002650100693508568"
     },
     "user_tz": -120
    },
    "id": "Qfb466xPyK6n",
    "outputId": "678804a2-5ad4-47ed-80cf-e77470b24b0a"
   },
   "outputs": [],
   "source": [
    "# extract pca coordinates\n",
    "X_pca = adata.obsm['X_pca_harmony']\n",
    "\n",
    "# kmeans with k=5\n",
    "kmeans = KMeans(n_clusters=5, random_state=0).fit(X_pca)\n",
    "adata.obs['kmeans5'] = kmeans.labels_.astype(str)\n",
    "\n",
    "# kmeans with k=10\n",
    "kmeans = KMeans(n_clusters=10, random_state=0).fit(X_pca)\n",
    "adata.obs['kmeans10'] = kmeans.labels_.astype(str)\n",
    "\n",
    "# kmeans with k=15\n",
    "kmeans = KMeans(n_clusters=15, random_state=0).fit(X_pca)\n",
    "adata.obs['kmeans15'] = kmeans.labels_.astype(str)\n",
    "\n",
    "sc.pl.umap(adata, color=['kmeans5', 'kmeans10', 'kmeans15'])\n",
    "\n",
    "adata.obsm"
   ]
  },
  {
   "cell_type": "markdown",
   "metadata": {
    "id": "QoU_DN3eyK6n"
   },
   "source": [
    "### Hierarchical clustering\n",
    "This method returns higherarchy of partitionings (a dendrogram) that can be cut at different levels in following steps:  \n",
    "- Calculating distance between **samples** (cells in this case). This distance can be Euclidean distance or corrleation.    \n",
    "- Defining a measure of distance between **clusters**.  (e.g. `linkage`, `single`, `average` , `median`, `centroid` and `ward`).  \n",
    "- Defining the dendrogram among all samples using **Bottom-up** or **Top-down** approach. Bottom-up is where samples start with their own cluster which end up merged pair-by-pair until only one cluster is left. Top-down is where samples start all in the same cluster that end up being split by 2 until each sample has its own cluster.   \n"
   ]
  },
  {
   "cell_type": "code",
   "execution_count": null,
   "metadata": {
    "colab": {
     "base_uri": "https://localhost:8080/",
     "height": 243
    },
    "executionInfo": {
     "elapsed": 11741,
     "status": "ok",
     "timestamp": 1758031970291,
     "user": {
      "displayName": "Nils Mechtel",
      "userId": "11002650100693508568"
     },
     "user_tz": -120
    },
    "id": "n-bNlGwkyK6n",
    "outputId": "4f019506-07fd-4e53-ecae-e7cc0c2eed0e"
   },
   "outputs": [],
   "source": [
    "cluster = AgglomerativeClustering(n_clusters=5, linkage='ward')\n",
    "adata.obs['hclust_5'] = cluster.fit_predict(X_pca).astype(str)\n",
    "\n",
    "cluster = AgglomerativeClustering(n_clusters=10, linkage='ward')\n",
    "adata.obs['hclust_10'] = cluster.fit_predict(X_pca).astype(str)\n",
    "\n",
    "cluster = AgglomerativeClustering(n_clusters=15, linkage='ward')\n",
    "adata.obs['hclust_15'] = cluster.fit_predict(X_pca).astype(str)\n",
    "\n",
    "sc.pl.umap(adata, color=['hclust_5', 'hclust_10', 'hclust_15'])"
   ]
  },
  {
   "cell_type": "markdown",
   "metadata": {
    "id": "TWETAQz6yK6o"
   },
   "source": [
    "We now save the clustered data for further analysis."
   ]
  },
  {
   "cell_type": "code",
   "execution_count": null,
   "metadata": {
    "id": "aXS6M13FyK6o"
   },
   "outputs": [],
   "source": [
    "adata.write_h5ad(os.path.join(path_results, \"covid_filtered_removed_doublets_dr_harmony_cl.h5ad\"))"
   ]
  },
  {
   "cell_type": "markdown",
   "metadata": {},
   "source": [
    "*****\n",
    "\n",
    "# Part II — MCP + Gemini CLI\n",
    "\n",
    "Now that we have preprocessed our data we can perform differential gene expression analysis. For this part of the analysis, you will start a VS Code Tunnel from the current notebook, which already has all necessary packages installed, and continue working in VS Code.\n",
    "\n",
    "After the tunnel is started, go back to the [module 4 lab page](https://ddls.aicell.io/course/ddls-2025/module-4/lab/) and follow the instructions there.\n"
   ]
  },
  {
   "cell_type": "markdown",
   "metadata": {},
   "source": [
    "## Install VS Code Tunnel\n",
    "\n",
    "Visual Studio Code (VS Code) is a very popular and powerful code editor that offers many features for writing and debugging code. While Google Colab provides a coding environment, many developers prefer the experience of working in VS Code.\n",
    "\n",
    "To still use Google Colab's free computing resources while enjoying the benefits of VS Code, you can install the VS Code Tunnel. This creates a secure connection between your Colab session and your local VS Code application, allowing you to edit files and run code directly within VS Code, while the processing happens in your Colab notebook."
   ]
  },
  {
   "cell_type": "code",
   "execution_count": null,
   "metadata": {},
   "outputs": [],
   "source": [
    "!curl -Lk 'https://code.visualstudio.com/sha/download?build=stable&os=cli-alpine-x64' --output vscode_cli.tar.gz\n",
    "!tar -xf vscode_cli.tar.gz"
   ]
  },
  {
   "cell_type": "markdown",
   "metadata": {},
   "source": [
    "## Start VS Code Tunnel\n",
    "\n",
    "After downloading the VS Code CLI, you need to click the **Terminal** button in the bottom of this page.\n",
    "\n",
    "Then, in the terminal, type:\n",
    "```\n",
    "./code tunnel\n",
    "```\n",
    "\n",
    "Then follow the instructions, use your arrow keys to select `❯ GitHub Account`, then you will see something like:\n",
    "\n",
    "> To grant access to the server, please log into https://github.com/login/device and use code B6BB-23AA\n",
    "\n",
    "You should now copy the url and open in a new browser tab, then copy the device code to login, you will need to approve the access to your github account then return to this terminal.\n",
    "\n",
    "Then you will see something like, and type e.g. `colab` for the name to identify this machine:\n",
    "> ? What would you like to call this machine? (30d8d79434a3) › colab\n",
    "\n",
    "After that you should see:\n",
    "> Open this link in your browser https://vscode.dev/tunnel/colab/content\n",
    "\n",
    "Now visit the link and you should get the vscode session where you will work on.\n",
    "\n",
    "> Switch to the Module4 Folder\n",
    "Open a terminal in VS Code (View -> Terminal). Move working directory to folder on Google Drive and use this folder as your workspace. This is a crucial step.\n",
    "\n",
    "```\n",
    "cd /content/drive/MyDrive/DDLS-Course/Module4/\n",
    "code .\n",
    "\n",
    "```"
   ]
  },
  {
   "cell_type": "markdown",
   "metadata": {},
   "source": [
    "**Importantly, please keep the terminal open and the browser tab for google colab active during the whole time.**\n",
    "\n",
    "To prevent the Colab session from timing out, you can run the code cell below. It will simulate activity every 5 minutes."
   ]
  },
  {
   "cell_type": "code",
   "execution_count": null,
   "metadata": {},
   "outputs": [],
   "source": [
    "import time\n",
    "from datetime import datetime\n",
    "\n",
    "while True:\n",
    "    # Print something every 5 minutes so Colab sees activity\n",
    "    now = datetime.now().strftime(\"%H:%M:%S\")\n",
    "    print(f\"✅ Still alive... ({now})\")\n",
    "    time.sleep(300)"
   ]
  }
 ],
 "metadata": {
  "colab": {
   "provenance": [
    {
     "file_id": "1QnsgWyuv6hP02MNpX-5lz5g_8B2ej_ux",
     "timestamp": 1725885365951
    }
   ]
  },
  "kernelspec": {
   "display_name": "base",
   "language": "python",
   "name": "python3"
  },
  "language_info": {
   "codemirror_mode": {
    "name": "ipython",
    "version": 3
   },
   "file_extension": ".py",
   "mimetype": "text/x-python",
   "name": "python",
   "nbconvert_exporter": "python",
   "pygments_lexer": "ipython3",
   "version": "3.10.10"
  }
 },
 "nbformat": 4,
 "nbformat_minor": 0
}
