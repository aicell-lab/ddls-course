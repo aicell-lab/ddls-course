{
  "cells": [
    {
      "cell_type": "markdown",
      "metadata": {
        "id": "570c1221"
      },
      "source": [
        "## Mount Google Drive Folder\n",
        "\n",
        "Mounting your Google Drive folder allows your Colab notebook to access files stored in your Google Drive. This is useful for saving results or accessing other files you need for your work."
      ]
    },
    {
      "cell_type": "code",
      "execution_count": null,
      "metadata": {
        "colab": {
          "base_uri": "https://localhost:8080/"
        },
        "id": "eGW5fBcu40Xp",
        "outputId": "9e5eeb66-32b0-47a1-c8ca-4e9c2558b844"
      },
      "outputs": [
        {
          "name": "stdout",
          "output_type": "stream",
          "text": [
            "Mounted at /content/drive\n"
          ]
        }
      ],
      "source": [
        "from google.colab import drive\n",
        "drive.mount('/content/drive')"
      ]
    },
    {
      "cell_type": "markdown",
      "metadata": {
        "id": "3fab4e1d"
      },
      "source": [
        "### Set up VS Code Tunnel\n",
        "\n",
        "Visual Studio Code (VS Code) is a very popular and powerful code editor that offers many features for writing and debugging code. While Google Colab provides a coding environment, many developers prefer the experience of working in VS Code.\n",
        "\n",
        "To still use Google Colab's free computing resources while enjoying the benefits of VS Code, you can install the VS Code Tunnel. This creates a secure connection between your Colab session and your local VS Code application, allowing you to edit files and run code directly within VS Code, while the processing happens in your Colab notebook.\n",
        "\n",
        "#### Step 1: Install VS Code Tunnel\n",
        "\n",
        "Click the **Terminal** button at the bottom of this Colab page to open a terminal, then run:\n",
        "\n",
        "```bash\n",
        "curl -Lk 'https://code.visualstudio.com/sha/download?build=stable&os=cli-alpine-x64' --output vscode_cli.tar.gz\n",
        "tar -xf vscode_cli.tar.gz\n",
        "```"
      ]
    },
    {
      "cell_type": "markdown",
      "metadata": {
        "id": "052e4469"
      },
      "source": [
        "#### Step 2: Start the Tunnel\n",
        "\n",
        "In the terminal, run:\n",
        "```bash\n",
        "./code tunnel\n",
        "```\n",
        "\n",
        "Follow the prompts:\n",
        "1. Use arrow keys to select **❯ GitHub Account**\n",
        "2. You'll see a message like: *\"To grant access to the server, please log into https://github.com/login/device and use code B6BB-23AA\"*\n",
        "3. Copy the URL and device code, open in a new browser tab, and authenticate with GitHub\n",
        "4. Return to the terminal and enter a machine name (e.g., `colab`)\n",
        "5. You'll receive a VS Code link like: `https://vscode.dev/tunnel/colab/content`\n",
        "\n",
        "#### Step 3: Set Up Your Workspace\n",
        "\n",
        "1. Open the VS Code link in your browser\n",
        "2. In VS Code, open a terminal\n",
        "3. Navigate to your workspace folder:\n",
        "   ```bash\n",
        "   cd path/to/your/workspace\n",
        "   ```\n",
        "4. Open the folder as workspace:\n",
        "   ```bash\n",
        "   code .\n",
        "   ```\n",
        "\n",
        "You can now create and edit files in VS Code while leveraging Colab's computing power!\n",
        "\n",
        "**Importantly, please keep the terminal open and the browser tab for google colab active during the whole time.**\n",
        "\n",
        "To prevent the Colab session from timing out, you can run the code cell below. It will simulate activity every 5 minutes."
      ]
    },
    {
      "cell_type": "code",
      "execution_count": null,
      "metadata": {},
      "outputs": [],
      "source": [
        "import time\n",
        "from datetime import datetime\n",
        "\n",
        "while True:\n",
        "    # Print something every 5 minutes so Colab sees activity\n",
        "    now = datetime.now().strftime(\"%H:%M:%S\")\n",
        "    print(f\"✅ Still alive... ({now})\")\n",
        "    time.sleep(300)"
      ]
    }
  ],
  "metadata": {
    "colab": {
      "provenance": []
    },
    "kernelspec": {
      "display_name": "ddls-scrna",
      "language": "python",
      "name": "python3"
    },
    "language_info": {
      "codemirror_mode": {
        "name": "ipython",
        "version": 3
      },
      "file_extension": ".py",
      "mimetype": "text/x-python",
      "name": "python",
      "nbconvert_exporter": "python",
      "pygments_lexer": "ipython3",
      "version": "3.11.13"
    }
  },
  "nbformat": 4,
  "nbformat_minor": 0
}
