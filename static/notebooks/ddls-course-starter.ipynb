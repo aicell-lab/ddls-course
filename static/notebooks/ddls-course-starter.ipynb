{
  "cells": [
    {
      "cell_type": "markdown",
      "metadata": {
        "id": "570c1221"
      },
      "source": [
        "## Mount Google Drive Folder\n",
        "\n",
        "Mounting your Google Drive folder allows your Colab notebook to access files stored in your Google Drive. This is useful for loading datasets, saving results, or accessing other files you need for your work."
      ]
    },
    {
      "cell_type": "code",
      "execution_count": null,
      "metadata": {
        "colab": {
          "base_uri": "https://localhost:8080/"
        },
        "id": "eGW5fBcu40Xp",
        "outputId": "9e5eeb66-32b0-47a1-c8ca-4e9c2558b844"
      },
      "outputs": [
        {
          "name": "stdout",
          "output_type": "stream",
          "text": [
            "Mounted at /content/drive\n"
          ]
        }
      ],
      "source": [
        "from google.colab import drive\n",
        "drive.mount('/content/drive')\n"
      ]
    },
    {
      "cell_type": "markdown",
      "metadata": {
        "id": "3fab4e1d"
      },
      "source": [
        "## Install VS Code Tunnel\n",
        "\n",
        "Visual Studio Code (VS Code) is a very popular and powerful code editor that offers many features for writing and debugging code. While Google Colab provides a coding environment, many developers prefer the experience of working in VS Code.\n",
        "\n",
        "To still use Google Colab's free computing resources while enjoying the benefits of VS Code, you can install the VS Code Tunnel. This creates a secure connection between your Colab session and your local VS Code application, allowing you to edit files and run code directly within VS Code, while the processing happens in your Colab notebook."
      ]
    },
    {
      "cell_type": "code",
      "execution_count": null,
      "metadata": {
        "colab": {
          "base_uri": "https://localhost:8080/"
        },
        "id": "6w3GPvr942kx",
        "outputId": "2059de1a-0ca1-42e4-9dbf-eea1789cef0c"
      },
      "outputs": [
        {
          "name": "stdout",
          "output_type": "stream",
          "text": [
            "  % Total    % Received % Xferd  Average Speed   Time    Time     Time  Current\n",
            "                                 Dload  Upload   Total   Spent    Left  Speed\n",
            "100   162  100   162    0     0    799      0 --:--:-- --:--:-- --:--:--   801\n",
            "100 9792k  100 9792k    0     0  17.5M      0 --:--:-- --:--:-- --:--:-- 92.6M\n"
          ]
        }
      ],
      "source": [
        "!curl -Lk 'https://code.visualstudio.com/sha/download?build=stable&os=cli-alpine-x64' --output vscode_cli.tar.gz\n",
        "!tar -xf vscode_cli.tar.gz"
      ]
    },
    {
      "cell_type": "markdown",
      "metadata": {
        "id": "052e4469"
      },
      "source": [
        "## Start VS Code Tunnel\n",
        "\n",
        "After downloading the VS Code CLI, you need to click the **Terminal** button in the bottom of this page.\n",
        "\n",
        "Then, in the terminal, type:\n",
        "```\n",
        "./code tunnel\n",
        "```\n",
        "\n",
        "Then follow the instructions, use your arrow keys to select `❯ GitHub Account`, then you will see something like:\n",
        "\n",
        "> To grant access to the server, please log into https://github.com/login/device and use code B6BB-23AA\n",
        "\n",
        "You should now copy the url and open in a new browser tab, then copy the device code to login, you will need to approve the access to your github account then return to this terminal.\n",
        "\n",
        "Then you will see something like, and type e.g. `colab` for the name to identify this machine:\n",
        "> ? What would you like to call this machine? (30d8d79434a3) › colab\n",
        "\n",
        "After that you should see:\n",
        "> Open this link in your browser https://vscode.dev/tunnel/colab/content\n",
        "\n",
        "\n",
        "Now visit the link and you should get the vscode session where you will work on.\n",
        "\n",
        "**Importantly, please keep the terminal open and the browser tab for google colab active during the whole time.**"
      ]
    },
    {
      "cell_type": "code",
      "execution_count": null,
      "metadata": {
        "id": "BC0NF84N71LA"
      },
      "outputs": [],
      "source": []
    }
  ],
  "metadata": {
    "colab": {
      "provenance": []
    },
    "kernelspec": {
      "display_name": "Python 3",
      "name": "python3"
    },
    "language_info": {
      "name": "python"
    }
  },
  "nbformat": 4,
  "nbformat_minor": 0
}
